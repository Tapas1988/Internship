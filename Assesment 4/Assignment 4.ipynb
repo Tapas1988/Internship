{
 "cells": [
  {
   "cell_type": "code",
   "execution_count": 14,
   "id": "ea4485ad",
   "metadata": {},
   "outputs": [],
   "source": [
    "import selenium\n",
    "from selenium import webdriver\n",
    "from selenium.webdriver.common.by import By\n",
    "from selenium.webdriver.support import expected_conditions as EC\n",
    "from selenium.webdriver.support.ui import WebDriverWait\n",
    "from selenium.common.exceptions import NoSuchElementException\n",
    "import pandas as pd\n",
    "import warnings\n",
    "warnings.filterwarnings('ignore')"
   ]
  },
  {
   "cell_type": "code",
   "execution_count": 10,
   "id": "04119fd0",
   "metadata": {},
   "outputs": [],
   "source": [
    "driver=webdriver.Edge(r'C:\\Users\\ACER\\Desktop\\DT\\Intership\\Web scraping selenium\\edgedriver_win64\\msedgedriver.exe')"
   ]
  },
  {
   "cell_type": "code",
   "execution_count": 11,
   "id": "3a4b7a99",
   "metadata": {},
   "outputs": [],
   "source": [
    "driver.maximize_window()"
   ]
  },
  {
   "cell_type": "code",
   "execution_count": 12,
   "id": "cc40abed",
   "metadata": {},
   "outputs": [],
   "source": [
    "driver.get('https://en.wikipedia.org/wiki/List_of_most-viewed_YouTube_videos')"
   ]
  },
  {
   "cell_type": "code",
   "execution_count": 19,
   "id": "aebed884",
   "metadata": {},
   "outputs": [
    {
     "data": {
      "text/plain": [
       "['regional restrictions',\n",
       " 'Baby Shark Dance',\n",
       " 'Johny Johny Yes Papa',\n",
       " 'Cocomelon – Nursery Rhymes',\n",
       " 'Cocomelon – Nursery Rhymes',\n",
       " 'Cocomelon – Nursery Rhymes',\n",
       " 'Alan Walker',\n",
       " 'Baby Shark Dance',\n",
       " 'Baby Shark Dance',\n",
       " 'Johny Johny Yes Papa',\n",
       " 'Baby Shark Dance',\n",
       " 'List of most-viewed online trailers in the first 24 hours',\n",
       " 'Wired',\n",
       " 'CNet',\n",
       " '',\n",
       " '',\n",
       " '',\n",
       " '']"
      ]
     },
     "execution_count": 19,
     "metadata": {},
     "output_type": "execute_result"
    }
   ],
   "source": [
    "Names=[]\n",
    "delay=5  #second\n",
    "WebDriverWait(driver,delay).until(EC.presence_of_element_located((By.CLASS_NAME,\"mw-redirect\")))\n",
    "Name=driver.find_elements(By.XPATH,'//a[@class=\"mw-redirect\"]')\n",
    "for i in Name:\n",
    "    Names.append(i.text)\n",
    "    \n",
    "Names\n"
   ]
  },
  {
   "cell_type": "code",
   "execution_count": 20,
   "id": "1b0a18ca",
   "metadata": {},
   "outputs": [],
   "source": [
    "# 2"
   ]
  },
  {
   "cell_type": "code",
   "execution_count": 21,
   "id": "17177d9f",
   "metadata": {},
   "outputs": [],
   "source": [
    "driver.get('https://www.bcci.tv/')"
   ]
  },
  {
   "cell_type": "code",
   "execution_count": 22,
   "id": "b9402aa9",
   "metadata": {},
   "outputs": [],
   "source": [
    "# 3"
   ]
  },
  {
   "cell_type": "code",
   "execution_count": 23,
   "id": "1c8c9dc7",
   "metadata": {},
   "outputs": [],
   "source": [
    "driver.get('https://www.guru99.com/')"
   ]
  },
  {
   "cell_type": "code",
   "execution_count": 25,
   "id": "293025bd",
   "metadata": {},
   "outputs": [],
   "source": [
    "# 4\n",
    "driver.get('http://statisticstimes.com/')"
   ]
  },
  {
   "cell_type": "code",
   "execution_count": 27,
   "id": "ee97c39d",
   "metadata": {},
   "outputs": [],
   "source": [
    "Search=driver.find_element(By.CLASS_NAME,\"dropbtn\")\n",
    "Search.click()"
   ]
  },
  {
   "cell_type": "code",
   "execution_count": null,
   "id": "6e3fa6d9",
   "metadata": {},
   "outputs": [],
   "source": []
  },
  {
   "cell_type": "code",
   "execution_count": null,
   "id": "75533ee2",
   "metadata": {},
   "outputs": [],
   "source": []
  }
 ],
 "metadata": {
  "kernelspec": {
   "display_name": "Python 3 (ipykernel)",
   "language": "python",
   "name": "python3"
  },
  "language_info": {
   "codemirror_mode": {
    "name": "ipython",
    "version": 3
   },
   "file_extension": ".py",
   "mimetype": "text/x-python",
   "name": "python",
   "nbconvert_exporter": "python",
   "pygments_lexer": "ipython3",
   "version": "3.9.12"
  }
 },
 "nbformat": 4,
 "nbformat_minor": 5
}
