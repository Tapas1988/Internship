{
 "cells": [
  {
   "cell_type": "code",
   "execution_count": 4,
   "id": "94cc55b6",
   "metadata": {},
   "outputs": [
    {
     "data": {
      "text/plain": [
       "0"
      ]
     },
     "execution_count": 4,
     "metadata": {},
     "output_type": "execute_result"
    }
   ],
   "source": [
    "# 1\n",
    "\n",
    "2%2\n",
    "# Ans: C) %"
   ]
  },
  {
   "cell_type": "code",
   "execution_count": 5,
   "id": "5e7d302f",
   "metadata": {},
   "outputs": [
    {
     "data": {
      "text/plain": [
       "0"
      ]
     },
     "execution_count": 5,
     "metadata": {},
     "output_type": "execute_result"
    }
   ],
   "source": [
    "# 2\n",
    "\n",
    "2//3\n",
    "# Ans: B) 0"
   ]
  },
  {
   "cell_type": "code",
   "execution_count": 6,
   "id": "4aed509b",
   "metadata": {},
   "outputs": [
    {
     "data": {
      "text/plain": [
       "24"
      ]
     },
     "execution_count": 6,
     "metadata": {},
     "output_type": "execute_result"
    }
   ],
   "source": [
    "# 3\n",
    "\n",
    "6<<2\n",
    "# Ans: C) 24"
   ]
  },
  {
   "cell_type": "code",
   "execution_count": 7,
   "id": "c9975d11",
   "metadata": {},
   "outputs": [
    {
     "data": {
      "text/plain": [
       "2"
      ]
     },
     "execution_count": 7,
     "metadata": {},
     "output_type": "execute_result"
    }
   ],
   "source": [
    "# 4\n",
    "\n",
    "6&2\n",
    "# Ans: A) 2"
   ]
  },
  {
   "cell_type": "code",
   "execution_count": 8,
   "id": "f22413a0",
   "metadata": {},
   "outputs": [
    {
     "data": {
      "text/plain": [
       "6"
      ]
     },
     "execution_count": 8,
     "metadata": {},
     "output_type": "execute_result"
    }
   ],
   "source": [
    "# 5\n",
    "\n",
    "6|2\n",
    "# Ans: D) 6"
   ]
  },
  {
   "cell_type": "code",
   "execution_count": 9,
   "id": "1c4c7197",
   "metadata": {},
   "outputs": [],
   "source": [
    "# 6\n",
    "\n",
    "C) the finally block will be executed no matter if the try block raises an error or not."
   ]
  },
  {
   "cell_type": "code",
   "execution_count": 10,
   "id": "4c909ad1",
   "metadata": {},
   "outputs": [],
   "source": [
    "# 7\n",
    "\n",
    "# Ans:A) It is used to raise an exception."
   ]
  },
  {
   "cell_type": "code",
   "execution_count": 11,
   "id": "558906de",
   "metadata": {},
   "outputs": [],
   "source": [
    "# 8\n",
    "# Ans: A) in defining an iterator"
   ]
  },
  {
   "cell_type": "code",
   "execution_count": 16,
   "id": "c30e42ea",
   "metadata": {},
   "outputs": [
    {
     "name": "stdout",
     "output_type": "stream",
     "text": [
      "4 4\n"
     ]
    }
   ],
   "source": [
    "# 9\n",
    "# Ans: A & C\n",
    "_abc=2+2\n",
    "abc2=2+2\n",
    "print(_abc,abc2)"
   ]
  },
  {
   "cell_type": "code",
   "execution_count": 17,
   "id": "db3d6fc9",
   "metadata": {},
   "outputs": [
    {
     "ename": "SyntaxError",
     "evalue": "invalid syntax (2413847663.py, line 1)",
     "output_type": "error",
     "traceback": [
      "\u001b[1;36m  Input \u001b[1;32mIn [17]\u001b[1;36m\u001b[0m\n\u001b[1;33m    1abc=2+2\u001b[0m\n\u001b[1;37m     ^\u001b[0m\n\u001b[1;31mSyntaxError\u001b[0m\u001b[1;31m:\u001b[0m invalid syntax\n"
     ]
    }
   ],
   "source": [
    "1abc=2+2\n",
    "1abc"
   ]
  },
  {
   "cell_type": "code",
   "execution_count": null,
   "id": "0c53ac81",
   "metadata": {},
   "outputs": [],
   "source": [
    "# 10\n",
    "# Ans: A) yield & B) raise"
   ]
  },
  {
   "cell_type": "code",
   "execution_count": 6,
   "id": "0f8c9795",
   "metadata": {},
   "outputs": [
    {
     "name": "stdout",
     "output_type": "stream",
     "text": [
      "please Rs.  198.0 amount will be paid only\n"
     ]
    }
   ],
   "source": [
    "# 11\n",
    "item_1=200\n",
    "          \n",
    "if item_1<200:\n",
    "    print('Not allow to discount')\n",
    "else: \n",
    "    discount=200-(200*.01)\n",
    "    print('please Rs. ', discount, 'amount will be paid only')"
   ]
  },
  {
   "cell_type": "code",
   "execution_count": 16,
   "id": "9077040e",
   "metadata": {},
   "outputs": [
    {
     "name": "stdout",
     "output_type": "stream",
     "text": [
      "please Enter Number:=1\n",
      "1 neither primer nor composite number\n"
     ]
    }
   ],
   "source": [
    "# 12.\n",
    "\n",
    "n=int(input(\"please Enter Number:=\"))\n",
    "if n>1:\n",
    "    for i in range(2, n):\n",
    "        if (n%i) ==0:\n",
    "            print(n, 'is not Prime no')\n",
    "            break\n",
    "        \n",
    "    else:\n",
    "        print(n,'is prime no.')\n",
    "        \n",
    "elif  n==0 or 1:\n",
    "        print(n, 'neither primer nor composite number')\n",
    "else:\n",
    "    print(n, ' it is a composite number')\n",
    "\n",
    "    "
   ]
  },
  {
   "cell_type": "code",
   "execution_count": 4,
   "id": "e5eea95a",
   "metadata": {},
   "outputs": [
    {
     "name": "stdout",
     "output_type": "stream",
     "text": [
      "string is palindrome\n"
     ]
    }
   ],
   "source": [
    "# 13\n",
    "x='malayalam'\n",
    "y=\"\"\n",
    "for i in x:\n",
    "    y=i+y\n",
    "if x==y:\n",
    "    print('string is palindrome')\n",
    "else:\n",
    "    print('string is not palindrome')\n",
    "    "
   ]
  },
  {
   "cell_type": "code",
   "execution_count": null,
   "id": "581a34bf",
   "metadata": {},
   "outputs": [],
   "source": [
    "# 14\n",
    "\n"
   ]
  },
  {
   "cell_type": "code",
   "execution_count": 17,
   "id": "a3dbae60",
   "metadata": {},
   "outputs": [
    {
     "name": "stdout",
     "output_type": "stream",
     "text": [
      "frequency of each of the characters present in a given string: {'H': 1, 'A': 3, 'R': 1, 'Y': 1, 'N': 1}\n"
     ]
    }
   ],
   "source": [
    "#  15\n",
    "\n",
    "Str=\"HARYANA\"\n",
    "frq={}\n",
    "for i in Str:\n",
    "    if i in frq:\n",
    "        frq[i]+=1\n",
    "        \n",
    "    else:\n",
    "        frq[i]=1\n",
    "print('frequency of each of the characters present in a given string:',str(frq))\n",
    "        \n",
    "    "
   ]
  },
  {
   "cell_type": "code",
   "execution_count": null,
   "id": "4062ad76",
   "metadata": {},
   "outputs": [],
   "source": []
  }
 ],
 "metadata": {
  "kernelspec": {
   "display_name": "Python 3 (ipykernel)",
   "language": "python",
   "name": "python3"
  },
  "language_info": {
   "codemirror_mode": {
    "name": "ipython",
    "version": 3
   },
   "file_extension": ".py",
   "mimetype": "text/x-python",
   "name": "python",
   "nbconvert_exporter": "python",
   "pygments_lexer": "ipython3",
   "version": "3.9.12"
  }
 },
 "nbformat": 4,
 "nbformat_minor": 5
}
