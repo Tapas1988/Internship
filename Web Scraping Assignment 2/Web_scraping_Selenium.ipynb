{
 "cells": [
  {
   "cell_type": "code",
   "execution_count": 1,
   "id": "555d9bcc",
   "metadata": {},
   "outputs": [
    {
     "name": "stdout",
     "output_type": "stream",
     "text": [
      "Requirement already satisfied: selenium in c:\\users\\acer\\anaconda3\\lib\\site-packages (4.5.0)\n",
      "Requirement already satisfied: urllib3[socks]~=1.26 in c:\\users\\acer\\anaconda3\\lib\\site-packages (from selenium) (1.26.9)\n",
      "Requirement already satisfied: trio-websocket~=0.9 in c:\\users\\acer\\anaconda3\\lib\\site-packages (from selenium) (0.9.2)\n",
      "Requirement already satisfied: trio~=0.17 in c:\\users\\acer\\anaconda3\\lib\\site-packages (from selenium) (0.22.0)\n",
      "Requirement already satisfied: certifi>=2021.10.8 in c:\\users\\acer\\anaconda3\\lib\\site-packages (from selenium) (2021.10.8)\n",
      "Requirement already satisfied: exceptiongroup>=1.0.0rc9 in c:\\users\\acer\\anaconda3\\lib\\site-packages (from trio~=0.17->selenium) (1.0.0)\n",
      "Requirement already satisfied: outcome in c:\\users\\acer\\anaconda3\\lib\\site-packages (from trio~=0.17->selenium) (1.2.0)\n",
      "Requirement already satisfied: sortedcontainers in c:\\users\\acer\\anaconda3\\lib\\site-packages (from trio~=0.17->selenium) (2.4.0)\n",
      "Requirement already satisfied: async-generator>=1.9 in c:\\users\\acer\\anaconda3\\lib\\site-packages (from trio~=0.17->selenium) (1.10)\n",
      "Requirement already satisfied: attrs>=19.2.0 in c:\\users\\acer\\anaconda3\\lib\\site-packages (from trio~=0.17->selenium) (21.4.0)\n",
      "Requirement already satisfied: cffi>=1.14 in c:\\users\\acer\\anaconda3\\lib\\site-packages (from trio~=0.17->selenium) (1.15.0)\n",
      "Requirement already satisfied: sniffio in c:\\users\\acer\\anaconda3\\lib\\site-packages (from trio~=0.17->selenium) (1.2.0)\n",
      "Requirement already satisfied: idna in c:\\users\\acer\\anaconda3\\lib\\site-packages (from trio~=0.17->selenium) (3.3)\n",
      "Requirement already satisfied: pycparser in c:\\users\\acer\\anaconda3\\lib\\site-packages (from cffi>=1.14->trio~=0.17->selenium) (2.21)\n",
      "Requirement already satisfied: wsproto>=0.14 in c:\\users\\acer\\anaconda3\\lib\\site-packages (from trio-websocket~=0.9->selenium) (1.2.0)\n",
      "Requirement already satisfied: PySocks!=1.5.7,<2.0,>=1.5.6 in c:\\users\\acer\\anaconda3\\lib\\site-packages (from urllib3[socks]~=1.26->selenium) (1.7.1)\n",
      "Requirement already satisfied: h11<1,>=0.9.0 in c:\\users\\acer\\anaconda3\\lib\\site-packages (from wsproto>=0.14->trio-websocket~=0.9->selenium) (0.14.0)\n"
     ]
    }
   ],
   "source": [
    "!pip install selenium"
   ]
  },
  {
   "cell_type": "code",
   "execution_count": 1,
   "id": "60039049",
   "metadata": {},
   "outputs": [],
   "source": [
    "import selenium\n",
    "from selenium import webdriver\n",
    "from selenium.webdriver.common.by import By\n",
    "import pandas as pd\n",
    "import warnings\n",
    "warnings.filterwarnings('ignore')\n",
    "import time"
   ]
  },
  {
   "cell_type": "code",
   "execution_count": 2,
   "id": "79ae0945",
   "metadata": {},
   "outputs": [],
   "source": [
    "# Connect to Edge web page Throur driver\n",
    "driver=webdriver.Edge(r'C:\\Users\\ACER\\Desktop\\DT\\Intership\\Web scraping selenium\\edgedriver_win64\\msedgedriver.exe')"
   ]
  },
  {
   "cell_type": "code",
   "execution_count": 3,
   "id": "6d7374a1",
   "metadata": {},
   "outputs": [],
   "source": [
    "# maximize the Webpage\n",
    "\n",
    "driver.maximize_window()"
   ]
  },
  {
   "cell_type": "code",
   "execution_count": 5,
   "id": "f738c220",
   "metadata": {},
   "outputs": [],
   "source": [
    "url='https://www.naukri.com/'\n",
    "driver.get(url)"
   ]
  },
  {
   "cell_type": "markdown",
   "id": "b5e2ffce",
   "metadata": {},
   "source": [
    "### Ans 1. \n",
    "\n"
   ]
  },
  {
   "cell_type": "code",
   "execution_count": 6,
   "id": "7e1f9468",
   "metadata": {},
   "outputs": [],
   "source": [
    "Title_scerch=driver.find_element(By.CLASS_NAME,\"suggestor-input \")\n",
    "Title_scerch.send_keys('Data Analyst')"
   ]
  },
  {
   "cell_type": "code",
   "execution_count": 7,
   "id": "09556f7c",
   "metadata": {},
   "outputs": [],
   "source": [
    "Job_location=driver.find_element(By.XPATH,'/html/body/div[1]/div[6]/div/div/div[5]/div/div/div/input')\n",
    "Job_location.send_keys('Bangalore')"
   ]
  },
  {
   "cell_type": "code",
   "execution_count": 8,
   "id": "00f3294c",
   "metadata": {},
   "outputs": [],
   "source": [
    "search_btn=driver.find_element(By.CLASS_NAME,\"qsbSubmit\")\n",
    "search_btn.click()"
   ]
  },
  {
   "cell_type": "markdown",
   "id": "b4db9874",
   "metadata": {},
   "source": [
    "### Ans 1. Extrating job Titles using Releated Xpath \n",
    " we want to frech all the jod details from web page\n"
   ]
  },
  {
   "cell_type": "code",
   "execution_count": 9,
   "id": "a7e4e862",
   "metadata": {},
   "outputs": [
    {
     "data": {
      "text/plain": [
       "[]"
      ]
     },
     "execution_count": 9,
     "metadata": {},
     "output_type": "execute_result"
    }
   ],
   "source": [
    "job_titl=[]\n",
    "job_tags=driver.find_elements(By.XPATH,'//a[@class=\"title fw500 ellipsis\"]',)\n",
    "for i in job_tags:\n",
    "    job_titl.append(i.text)\n",
    "    \n",
    "job_titl[0:10]\n"
   ]
  },
  {
   "cell_type": "code",
   "execution_count": 10,
   "id": "600e665d",
   "metadata": {},
   "outputs": [
    {
     "data": {
      "text/plain": [
       "[]"
      ]
     },
     "execution_count": 10,
     "metadata": {},
     "output_type": "execute_result"
    }
   ],
   "source": [
    "company_name=[]\n",
    "com_name=driver.find_elements(By.XPATH,'//a[@class=\"subTitle ellipsis fleft\"]')\n",
    "for i in com_name:\n",
    "    company_name.append(i.text)\n",
    "    \n",
    "company_name[0:10]"
   ]
  },
  {
   "cell_type": "code",
   "execution_count": 11,
   "id": "f03134a1",
   "metadata": {},
   "outputs": [
    {
     "data": {
      "text/plain": [
       "[]"
      ]
     },
     "execution_count": 11,
     "metadata": {},
     "output_type": "execute_result"
    }
   ],
   "source": [
    "job_exp= []\n",
    "job_expr=driver.find_elements(By.XPATH,'//span[@class=\"ellipsis fleft fs12 lh16 expwdth\"]')\n",
    "for i in job_expr:\n",
    "    job_exp.append(i.text)\n",
    "    \n",
    "job_exp[0:10]"
   ]
  },
  {
   "cell_type": "code",
   "execution_count": 12,
   "id": "696fb179",
   "metadata": {},
   "outputs": [
    {
     "data": {
      "text/plain": [
       "[]"
      ]
     },
     "execution_count": 12,
     "metadata": {},
     "output_type": "execute_result"
    }
   ],
   "source": [
    "job_location= []\n",
    "job_loc=driver.find_elements(By.XPATH,'//span[@class=\"ellipsis fleft fs12 lh16 locWdth\"]')\n",
    "for i in job_loc:\n",
    "    job_location.append(i.text)\n",
    "    \n",
    "job_location[0:10]"
   ]
  },
  {
   "cell_type": "code",
   "execution_count": 13,
   "id": "e42f4580",
   "metadata": {},
   "outputs": [
    {
     "data": {
      "text/html": [
       "<div>\n",
       "<style scoped>\n",
       "    .dataframe tbody tr th:only-of-type {\n",
       "        vertical-align: middle;\n",
       "    }\n",
       "\n",
       "    .dataframe tbody tr th {\n",
       "        vertical-align: top;\n",
       "    }\n",
       "\n",
       "    .dataframe thead th {\n",
       "        text-align: right;\n",
       "    }\n",
       "</style>\n",
       "<table border=\"1\" class=\"dataframe\">\n",
       "  <thead>\n",
       "    <tr style=\"text-align: right;\">\n",
       "      <th></th>\n",
       "      <th>Titel</th>\n",
       "      <th>Company Name</th>\n",
       "      <th>Exp</th>\n",
       "      <th>Location</th>\n",
       "    </tr>\n",
       "  </thead>\n",
       "  <tbody>\n",
       "  </tbody>\n",
       "</table>\n",
       "</div>"
      ],
      "text/plain": [
       "Empty DataFrame\n",
       "Columns: [Titel, Company Name, Exp, Location]\n",
       "Index: []"
      ]
     },
     "execution_count": 13,
     "metadata": {},
     "output_type": "execute_result"
    }
   ],
   "source": [
    "df=pd.DataFrame({'Titel':job_titl[0:10],\n",
    "       'Company Name':company_name[0:10],\n",
    "       'Exp':job_exp[0:10],\n",
    "       'Location':job_location[0:10]})\n",
    "df"
   ]
  },
  {
   "cell_type": "markdown",
   "id": "5acd6ef7",
   "metadata": {},
   "source": [
    "### Ans 2."
   ]
  },
  {
   "cell_type": "markdown",
   "id": "2f6ab089",
   "metadata": {},
   "source": [
    "### Go to web page"
   ]
  },
  {
   "cell_type": "code",
   "execution_count": 14,
   "id": "30f9f9dc",
   "metadata": {},
   "outputs": [],
   "source": [
    "driver2=webdriver.Edge(r\"C:\\Users\\ACER\\Desktop\\DT\\Intership\\Web scraping selenium\\edgedriver_win64\\msedgedriver.exe\")"
   ]
  },
  {
   "cell_type": "code",
   "execution_count": 15,
   "id": "2823fe65",
   "metadata": {},
   "outputs": [],
   "source": [
    "driver2.maximize_window()"
   ]
  },
  {
   "cell_type": "code",
   "execution_count": 16,
   "id": "1e0120ac",
   "metadata": {},
   "outputs": [],
   "source": [
    "url2= 'https://www.naukri.com/'\n",
    "driver2.get(url2)\n"
   ]
  },
  {
   "cell_type": "code",
   "execution_count": 17,
   "id": "87c9ec53",
   "metadata": {},
   "outputs": [],
   "source": [
    "Search_titles2=driver2.find_element(By.CLASS_NAME,\"suggestor-input \")\n",
    "Search_titles2.send_keys('Data Scientist')"
   ]
  },
  {
   "cell_type": "code",
   "execution_count": 18,
   "id": "076fc309",
   "metadata": {},
   "outputs": [],
   "source": [
    "Search_location2=driver2.find_element(By.XPATH,'/html/body/div[1]/div[6]/div/div/div[5]/div/div/div/input')\n",
    "Search_location2.send_keys('Bangalore')"
   ]
  },
  {
   "cell_type": "code",
   "execution_count": 19,
   "id": "d3373d81",
   "metadata": {},
   "outputs": [],
   "source": [
    "search_btn2=driver2.find_element(By.CLASS_NAME,\"qsbSubmit\")\n",
    "search_btn2.click()"
   ]
  },
  {
   "cell_type": "markdown",
   "id": "0dec9959",
   "metadata": {},
   "source": [
    "####  Extracting job-title, job-location, company_name"
   ]
  },
  {
   "cell_type": "code",
   "execution_count": 20,
   "id": "b172bdd9",
   "metadata": {},
   "outputs": [
    {
     "data": {
      "text/plain": [
       "[]"
      ]
     },
     "execution_count": 20,
     "metadata": {},
     "output_type": "execute_result"
    }
   ],
   "source": [
    "job_title2= []\n",
    "job_titl=driver2.find_elements(By.XPATH,'//a[@class=\"title fw500 ellipsis\"]')\n",
    "for title in job_titl:\n",
    "    job_title2.append(title.text)\n",
    "    \n",
    "job_title2[0:10]"
   ]
  },
  {
   "cell_type": "code",
   "execution_count": 21,
   "id": "68961a6c",
   "metadata": {},
   "outputs": [
    {
     "data": {
      "text/plain": [
       "[]"
      ]
     },
     "execution_count": 21,
     "metadata": {},
     "output_type": "execute_result"
    }
   ],
   "source": [
    "job_location2= []\n",
    "job_loc2=driver2.find_elements(By.XPATH,'//span[@class=\"ellipsis fleft fs12 lh16 locWdth\"]')\n",
    "for loc in job_loc2:\n",
    "    job_location2.append(loc.text)\n",
    "    \n",
    "job_location2[0:10]"
   ]
  },
  {
   "cell_type": "code",
   "execution_count": 22,
   "id": "4a7000e3",
   "metadata": {},
   "outputs": [
    {
     "data": {
      "text/plain": [
       "[]"
      ]
     },
     "execution_count": 22,
     "metadata": {},
     "output_type": "execute_result"
    }
   ],
   "source": [
    "Company_name2= []\n",
    "Com_Name2=driver2.find_elements(By.XPATH,'//a[@class=\"subTitle ellipsis fleft\"]')\n",
    "for com in Com_Name2[0:10]:\n",
    "    Company_name2.append(com.text)\n",
    "    \n",
    "Company_name2"
   ]
  },
  {
   "cell_type": "code",
   "execution_count": 23,
   "id": "cffc7cf8",
   "metadata": {},
   "outputs": [],
   "source": [
    "df=pd.DataFrame({'Company Name':Company_name2[0:10],\n",
    "                'Location':job_location2[0:10],\n",
    "                'Title':job_title2[0:10]})"
   ]
  },
  {
   "cell_type": "code",
   "execution_count": 24,
   "id": "c6ce269f",
   "metadata": {},
   "outputs": [
    {
     "data": {
      "text/html": [
       "<div>\n",
       "<style scoped>\n",
       "    .dataframe tbody tr th:only-of-type {\n",
       "        vertical-align: middle;\n",
       "    }\n",
       "\n",
       "    .dataframe tbody tr th {\n",
       "        vertical-align: top;\n",
       "    }\n",
       "\n",
       "    .dataframe thead th {\n",
       "        text-align: right;\n",
       "    }\n",
       "</style>\n",
       "<table border=\"1\" class=\"dataframe\">\n",
       "  <thead>\n",
       "    <tr style=\"text-align: right;\">\n",
       "      <th></th>\n",
       "      <th>Company Name</th>\n",
       "      <th>Location</th>\n",
       "      <th>Title</th>\n",
       "    </tr>\n",
       "  </thead>\n",
       "  <tbody>\n",
       "  </tbody>\n",
       "</table>\n",
       "</div>"
      ],
      "text/plain": [
       "Empty DataFrame\n",
       "Columns: [Company Name, Location, Title]\n",
       "Index: []"
      ]
     },
     "execution_count": 24,
     "metadata": {},
     "output_type": "execute_result"
    }
   ],
   "source": [
    "df"
   ]
  },
  {
   "cell_type": "markdown",
   "id": "402834e2",
   "metadata": {},
   "source": [
    "### Ans 4.\n",
    "Go to webpage"
   ]
  },
  {
   "cell_type": "code",
   "execution_count": 25,
   "id": "9479779f",
   "metadata": {},
   "outputs": [],
   "source": [
    "flipkart=webdriver.Edge(r\"C:\\Users\\ACER\\Desktop\\DT\\Intership\\Web scraping selenium\\edgedriver_win64\\msedgedriver.exe\")"
   ]
  },
  {
   "cell_type": "code",
   "execution_count": 26,
   "id": "6f77d653",
   "metadata": {},
   "outputs": [],
   "source": [
    "flipkart.maximize_window()     #Maximize webpage"
   ]
  },
  {
   "cell_type": "code",
   "execution_count": 27,
   "id": "d1595bb1",
   "metadata": {},
   "outputs": [],
   "source": [
    "url3='https://www.flipkart.com/'  # connect to URL\n",
    "flipkart.get(url3)"
   ]
  },
  {
   "cell_type": "code",
   "execution_count": 28,
   "id": "61752393",
   "metadata": {},
   "outputs": [],
   "source": [
    "Search_sunglass=flipkart.find_element(By.CLASS_NAME,\"_3704LK\")\n",
    "Search_sunglass.send_keys('sunglasses')"
   ]
  },
  {
   "cell_type": "code",
   "execution_count": 29,
   "id": "7713a7bd",
   "metadata": {},
   "outputs": [],
   "source": [
    "Search_btn4=flipkart.find_element(By.CLASS_NAME,\"L0Z3Pu\")\n",
    "Search_btn4.click()"
   ]
  },
  {
   "cell_type": "markdown",
   "id": "5156b03c",
   "metadata": {},
   "source": [
    "### Extract the Data"
   ]
  },
  {
   "cell_type": "code",
   "execution_count": 30,
   "id": "3e67dac3",
   "metadata": {
    "scrolled": true
   },
   "outputs": [
    {
     "data": {
      "text/plain": [
       "[]"
      ]
     },
     "execution_count": 30,
     "metadata": {},
     "output_type": "execute_result"
    }
   ],
   "source": [
    "name_sungluss= []\n",
    "model=flipkart.find_elements(By.XPATH,'//div[@class=\"_2WkVRV\"]')\n",
    "\n",
    "for i in model:\n",
    "    name_sungluss.append(i.text)\n",
    "    \n",
    "name_sungluss\n"
   ]
  },
  {
   "cell_type": "code",
   "execution_count": 31,
   "id": "3f91d1b5",
   "metadata": {},
   "outputs": [
    {
     "data": {
      "text/plain": [
       "0"
      ]
     },
     "execution_count": 31,
     "metadata": {},
     "output_type": "execute_result"
    }
   ],
   "source": [
    "len(name_sungluss)"
   ]
  },
  {
   "cell_type": "code",
   "execution_count": 32,
   "id": "dd096867",
   "metadata": {
    "scrolled": true
   },
   "outputs": [
    {
     "data": {
      "text/plain": [
       "[]"
      ]
     },
     "execution_count": 32,
     "metadata": {},
     "output_type": "execute_result"
    }
   ],
   "source": [
    "Sunglass_rate= []\n",
    "rate=flipkart.find_elements(By.XPATH,'//div[@class=\"_30jeq3\"]')\n",
    "for i in rate:\n",
    "    Sunglass_rate.append(i.text)\n",
    "    \n",
    "Sunglass_rate"
   ]
  },
  {
   "cell_type": "code",
   "execution_count": 33,
   "id": "1cbefd40",
   "metadata": {},
   "outputs": [
    {
     "data": {
      "text/plain": [
       "0"
      ]
     },
     "execution_count": 33,
     "metadata": {},
     "output_type": "execute_result"
    }
   ],
   "source": [
    "len(Sunglass_rate)"
   ]
  },
  {
   "cell_type": "code",
   "execution_count": 34,
   "id": "9f7f2a9f",
   "metadata": {
    "scrolled": true
   },
   "outputs": [
    {
     "data": {
      "text/plain": [
       "[]"
      ]
     },
     "execution_count": 34,
     "metadata": {},
     "output_type": "execute_result"
    }
   ],
   "source": [
    "Sunglass_rate_off= []\n",
    "rate_off=flipkart.find_elements(By.XPATH,'//div[@class=\"_3Ay6Sb\"]')\n",
    "for i in rate_off:\n",
    "    Sunglass_rate_off.append(i.text)\n",
    "    \n",
    "Sunglass_rate_off"
   ]
  },
  {
   "cell_type": "code",
   "execution_count": 35,
   "id": "470b42cb",
   "metadata": {},
   "outputs": [
    {
     "data": {
      "text/plain": [
       "0"
      ]
     },
     "execution_count": 35,
     "metadata": {},
     "output_type": "execute_result"
    }
   ],
   "source": [
    "len(Sunglass_rate_off)"
   ]
  },
  {
   "cell_type": "code",
   "execution_count": 36,
   "id": "dfdcbc7d",
   "metadata": {},
   "outputs": [
    {
     "data": {
      "text/plain": [
       "[]"
      ]
     },
     "execution_count": 36,
     "metadata": {},
     "output_type": "execute_result"
    }
   ],
   "source": [
    "model_sungluss= []\n",
    "model1=flipkart.find_elements(By.XPATH,'//a[@class=\"IRpwTa\"]')\n",
    "\n",
    "for i in model1:\n",
    "    model_sungluss.append(i.text)\n",
    "    \n",
    "model_sungluss\n"
   ]
  },
  {
   "cell_type": "code",
   "execution_count": 37,
   "id": "6a0ad5d3",
   "metadata": {},
   "outputs": [
    {
     "data": {
      "text/plain": [
       "0"
      ]
     },
     "execution_count": 37,
     "metadata": {},
     "output_type": "execute_result"
    }
   ],
   "source": [
    "len(model_sungluss)"
   ]
  },
  {
   "cell_type": "markdown",
   "id": "fd5a49ef",
   "metadata": {},
   "source": [
    "### move to 2nd page to get data details"
   ]
  },
  {
   "cell_type": "code",
   "execution_count": 39,
   "id": "05b9dbcc",
   "metadata": {},
   "outputs": [],
   "source": [
    "next_page=flipkart.find_element(By.CLASS_NAME,\"_1LKTO3\")\n",
    "next_page.click()"
   ]
  },
  {
   "cell_type": "code",
   "execution_count": 40,
   "id": "a2b3583b",
   "metadata": {
    "scrolled": true
   },
   "outputs": [
    {
     "data": {
      "text/plain": [
       "['ROZZETTA CRAFT',\n",
       " 'PIRASO',\n",
       " 'PIRASO',\n",
       " 'PIRASO',\n",
       " 'ROZZETTA CRAFT',\n",
       " 'ROZZETTA CRAFT',\n",
       " 'Singco India',\n",
       " 'PIRASO',\n",
       " 'DEIXELS',\n",
       " 'DEXENT COLLECTION',\n",
       " 'ROYAL SON',\n",
       " 'kingsunglasses',\n",
       " 'GANSTA',\n",
       " 'VINCENT CHASE',\n",
       " 'Rich Club',\n",
       " 'ROZZETTA CRAFT',\n",
       " 'Singco India',\n",
       " 'Fastrack',\n",
       " 'kingsunglasses',\n",
       " 'PROVOGUE',\n",
       " 'ROZZETTA CRAFT',\n",
       " 'Fastrack',\n",
       " 'Urbanic',\n",
       " 'Fastrack',\n",
       " 'MODE',\n",
       " 'RESIST EYEWEAR',\n",
       " 'ROYAL SON',\n",
       " 'Fastrack',\n",
       " 'AISLIN',\n",
       " 'ROYAL SON',\n",
       " 'DEIXELS',\n",
       " 'Satyam Kraft',\n",
       " 'Anemone',\n",
       " 'Urbanic',\n",
       " 'Fastrack',\n",
       " 'Singco India',\n",
       " 'Tag Eye',\n",
       " 'kingsunglasses',\n",
       " 'Fastrack']"
      ]
     },
     "execution_count": 40,
     "metadata": {},
     "output_type": "execute_result"
    }
   ],
   "source": [
    "name_sungluss1= []\n",
    "model=flipkart.find_elements(By.XPATH,'//div[@class=\"_2WkVRV\"]')\n",
    "\n",
    "for i in model:\n",
    "    name_sungluss1.append(i.text)\n",
    "    \n",
    "name_sungluss1"
   ]
  },
  {
   "cell_type": "code",
   "execution_count": 41,
   "id": "902d697c",
   "metadata": {
    "scrolled": true
   },
   "outputs": [
    {
     "data": {
      "text/plain": [
       "['₹499',\n",
       " '₹379',\n",
       " '₹251',\n",
       " '₹314',\n",
       " '₹251',\n",
       " '₹616',\n",
       " '₹379',\n",
       " '₹575',\n",
       " '₹251',\n",
       " '₹236',\n",
       " '₹269',\n",
       " '₹759',\n",
       " '₹255',\n",
       " '₹220',\n",
       " '₹949',\n",
       " '₹299',\n",
       " '₹474',\n",
       " '₹296',\n",
       " '₹559',\n",
       " '₹222',\n",
       " '₹664',\n",
       " '₹331',\n",
       " '₹649',\n",
       " '₹439',\n",
       " '₹719',\n",
       " '₹179',\n",
       " '₹1,399',\n",
       " '₹664',\n",
       " '₹809',\n",
       " '₹498',\n",
       " '₹711',\n",
       " '₹299',\n",
       " '₹299',\n",
       " '₹449',\n",
       " '₹359',\n",
       " '₹579',\n",
       " '₹314',\n",
       " '₹720',\n",
       " '₹189',\n",
       " '₹649']"
      ]
     },
     "execution_count": 41,
     "metadata": {},
     "output_type": "execute_result"
    }
   ],
   "source": [
    "Sunglass_rate= []\n",
    "rate=flipkart.find_elements(By.XPATH,'//div[@class=\"_30jeq3\"]')\n",
    "for i in rate:\n",
    "    Sunglass_rate.append(i.text)\n",
    "    \n",
    "Sunglass_rate"
   ]
  },
  {
   "cell_type": "code",
   "execution_count": 42,
   "id": "cf53fd56",
   "metadata": {},
   "outputs": [
    {
     "data": {
      "text/plain": [
       "['Aviator, Clubmaster, Oval, Over-sized, Rectangular, Ret...',\n",
       " 'UV Protection, Gradient Rectangular Sunglasses (Free Si...',\n",
       " 'UV Protection Aviator Sunglasses (54)',\n",
       " 'UV Protection Aviator Sunglasses (Free Size)',\n",
       " 'UV Protection Wayfarer Sunglasses (55)',\n",
       " 'UV Protection Aviator Sunglasses (55)',\n",
       " 'UV Protection, Gradient Round Sunglasses (Free Size)',\n",
       " 'Gradient, Toughened Glass Lens, UV Protection Retro Squ...',\n",
       " 'UV Protection Aviator Sunglasses (55)',\n",
       " 'Polarized, UV Protection, Riding Glasses Wayfarer Sungl...',\n",
       " 'UV Protection Oval Sunglasses (Free Size)',\n",
       " 'Polarized, UV Protection Aviator Sunglasses (57)',\n",
       " 'UV Protection Rectangular Sunglasses (55)',\n",
       " 'UV Protection Retro Square Sunglasses (53)',\n",
       " 'by Lenskart Polarized, UV Protection Cat-eye Sunglasses...',\n",
       " 'UV Protection Retro Square Sunglasses (54)',\n",
       " 'UV Protection Retro Square Sunglasses (Free Size)',\n",
       " 'Riding Glasses, UV Protection Clubmaster, Wayfarer Sung...',\n",
       " 'UV Protection Wayfarer Sunglasses (Free Size)',\n",
       " 'UV Protection Rectangular Sunglasses (Free Size)',\n",
       " 'Polarized, UV Protection Rectangular Sunglasses (Free S...',\n",
       " 'UV Protection, Gradient Retro Square Sunglasses (Free S...',\n",
       " 'UV Protection Shield Sunglasses (Free Size)',\n",
       " 'Others Retro Square Sunglasses (Free Size)',\n",
       " 'UV Protection Wayfarer Sunglasses (Free Size)',\n",
       " 'UV Protection Aviator Sunglasses (Free Size)',\n",
       " 'Polarized, Riding Glasses, UV Protection Wayfarer Sungl...',\n",
       " 'Polarized, UV Protection Retro Square Sunglasses (61)',\n",
       " 'Mirrored, UV Protection Wayfarer Sunglasses (Free Size)',\n",
       " 'UV Protection, Gradient Round, Cat-eye Sunglasses (60)',\n",
       " 'UV Protection Sports Sunglasses (Free Size)',\n",
       " 'Others Spectacle Sunglasses (Free Size)',\n",
       " 'UV Protection, Gradient Rectangular, Spectacle Sunglas...',\n",
       " 'Others Retro Square Sunglasses (Free Size)',\n",
       " 'UV Protection Aviator Sunglasses (57)',\n",
       " 'UV Protection Aviator Sunglasses (66)',\n",
       " 'UV Protection Rectangular Sunglasses (55)',\n",
       " 'UV Protection Wayfarer Sunglasses (Free Size)']"
      ]
     },
     "execution_count": 42,
     "metadata": {},
     "output_type": "execute_result"
    }
   ],
   "source": [
    "model_sungluss= []\n",
    "model1=flipkart.find_elements(By.XPATH,'//a[@class=\"IRpwTa\"]')\n",
    "\n",
    "for i in model1:\n",
    "    model_sungluss.append(i.text)\n",
    "    \n",
    "model_sungluss\n"
   ]
  },
  {
   "cell_type": "markdown",
   "id": "5e843a10",
   "metadata": {},
   "source": [
    "### move to next 3rd page to extract 20 nos details to complet 100 nos"
   ]
  },
  {
   "cell_type": "code",
   "execution_count": 43,
   "id": "09ad4638",
   "metadata": {},
   "outputs": [],
   "source": [
    "next_page=flipkart.find_element(By.XPATH,'/html/body/div[1]/div/div[3]/div[1]/div[2]/div[12]/div/div/nav/a[12]/span')\n",
    "next_page.click()"
   ]
  },
  {
   "cell_type": "code",
   "execution_count": 44,
   "id": "43a6e090",
   "metadata": {},
   "outputs": [
    {
     "data": {
      "text/plain": [
       "['ROYAL SON',\n",
       " 'ROYAL SON',\n",
       " 'Fastrack',\n",
       " 'DEIXELS',\n",
       " 'IDEE',\n",
       " 'EYELLUSION',\n",
       " 'ROYAL SON',\n",
       " 'METRONAUT',\n",
       " 'ROZZETTA CRAFT',\n",
       " 'EYELLUSION',\n",
       " 'AISLIN',\n",
       " 'ROYAL SON',\n",
       " 'SUNBEE',\n",
       " 'ROZZETTA CRAFT',\n",
       " 'IDEE',\n",
       " 'kingsunglasses',\n",
       " 'ROYAL SON',\n",
       " 'ROYAL SON',\n",
       " 'ROYAL SON',\n",
       " 'IDEE']"
      ]
     },
     "execution_count": 44,
     "metadata": {},
     "output_type": "execute_result"
    }
   ],
   "source": [
    "name_sungluss2= []\n",
    "model=flipkart.find_elements(By.XPATH,'//div[@class=\"_2WkVRV\"]')\n",
    "\n",
    "for i in model[0:20]:\n",
    "    name_sungluss2.append(i.text)\n",
    "    \n",
    "name_sungluss2"
   ]
  },
  {
   "cell_type": "code",
   "execution_count": 45,
   "id": "e633dc07",
   "metadata": {},
   "outputs": [
    {
     "data": {
      "text/plain": [
       "['₹664',\n",
       " '₹759',\n",
       " '₹649',\n",
       " '₹236',\n",
       " '₹1,009',\n",
       " '₹199',\n",
       " '₹616',\n",
       " '₹254',\n",
       " '₹379',\n",
       " '₹230',\n",
       " '₹648',\n",
       " '₹664',\n",
       " '₹324',\n",
       " '₹474',\n",
       " '₹909',\n",
       " '₹282',\n",
       " '₹699',\n",
       " '₹759',\n",
       " '₹379',\n",
       " '₹1,169']"
      ]
     },
     "execution_count": 45,
     "metadata": {},
     "output_type": "execute_result"
    }
   ],
   "source": [
    "Sunglass_rate= []\n",
    "rate=flipkart.find_elements(By.XPATH,'//div[@class=\"_30jeq3\"]')\n",
    "for i in rate[0:20]:\n",
    "    Sunglass_rate.append(i.text)\n",
    "    \n",
    "Sunglass_rate"
   ]
  },
  {
   "cell_type": "code",
   "execution_count": 46,
   "id": "094b38b1",
   "metadata": {},
   "outputs": [
    {
     "data": {
      "text/plain": [
       "['UV Protection Retro Square Sunglasses (60)',\n",
       " 'Polarized, UV Protection Aviator Sunglasses (64)',\n",
       " 'UV Protection Wayfarer Sunglasses (Free Size)',\n",
       " 'UV Protection Wayfarer Sunglasses (Free Size)',\n",
       " 'UV Protection Wayfarer Sunglasses (18)',\n",
       " 'Riding Glasses, Riding Glasses, UV Protection Round Sun...',\n",
       " 'UV Protection, Gradient Sunglass',\n",
       " 'UV Protection, Gradient Rectangular Sunglasses (Free Si...',\n",
       " 'UV Protection, Gradient, Night Vision, Riding Glasses, ...',\n",
       " 'UV Protection Retro Square, Over-sized Sunglasses (61)',\n",
       " 'UV Protection, Gradient Over-sized Sunglasses (62)',\n",
       " 'UV Protection, Polarized, Mirrored Round Sunglasses (Fr...',\n",
       " 'UV Protection Retro Square Sunglasses (Free Size)',\n",
       " 'UV Protection Aviator Sunglasses (18)',\n",
       " 'UV Protection, Night Vision Wayfarer Sunglasses (Free S...',\n",
       " 'UV Protection, Gradient Over-sized Sunglasses (56)',\n",
       " 'Polarized, UV Protection Wrap-around Sunglasses (62)',\n",
       " 'Mirrored Aviator Sunglasses (55)',\n",
       " 'Gradient, UV Protection Aviator Sunglasses (58)',\n",
       " 'UV Protection, Gradient Butterfly Sunglasses (52)']"
      ]
     },
     "execution_count": 46,
     "metadata": {},
     "output_type": "execute_result"
    }
   ],
   "source": [
    "model_sungluss= []\n",
    "model1=flipkart.find_elements(By.XPATH,'//a[@class=\"IRpwTa\"]')\n",
    "\n",
    "for i in model1[0:20]:\n",
    "    model_sungluss.append(i.text)\n",
    "    \n",
    "model_sungluss\n"
   ]
  },
  {
   "cell_type": "markdown",
   "id": "3daff917",
   "metadata": {},
   "source": [
    "### Total 100 product Description of Sunglasses"
   ]
  },
  {
   "cell_type": "code",
   "execution_count": 47,
   "id": "e1371c60",
   "metadata": {},
   "outputs": [],
   "source": [
    "Product_description=[]\n",
    "Product_description.extend([name_sungluss,name_sungluss1,name_sungluss2])"
   ]
  },
  {
   "cell_type": "code",
   "execution_count": 48,
   "id": "ba10680b",
   "metadata": {
    "scrolled": true
   },
   "outputs": [
    {
     "data": {
      "text/plain": [
       "[[],\n",
       " ['ROZZETTA CRAFT',\n",
       "  'PIRASO',\n",
       "  'PIRASO',\n",
       "  'PIRASO',\n",
       "  'ROZZETTA CRAFT',\n",
       "  'ROZZETTA CRAFT',\n",
       "  'Singco India',\n",
       "  'PIRASO',\n",
       "  'DEIXELS',\n",
       "  'DEXENT COLLECTION',\n",
       "  'ROYAL SON',\n",
       "  'kingsunglasses',\n",
       "  'GANSTA',\n",
       "  'VINCENT CHASE',\n",
       "  'Rich Club',\n",
       "  'ROZZETTA CRAFT',\n",
       "  'Singco India',\n",
       "  'Fastrack',\n",
       "  'kingsunglasses',\n",
       "  'PROVOGUE',\n",
       "  'ROZZETTA CRAFT',\n",
       "  'Fastrack',\n",
       "  'Urbanic',\n",
       "  'Fastrack',\n",
       "  'MODE',\n",
       "  'RESIST EYEWEAR',\n",
       "  'ROYAL SON',\n",
       "  'Fastrack',\n",
       "  'AISLIN',\n",
       "  'ROYAL SON',\n",
       "  'DEIXELS',\n",
       "  'Satyam Kraft',\n",
       "  'Anemone',\n",
       "  'Urbanic',\n",
       "  'Fastrack',\n",
       "  'Singco India',\n",
       "  'Tag Eye',\n",
       "  'kingsunglasses',\n",
       "  'Fastrack'],\n",
       " ['ROYAL SON',\n",
       "  'ROYAL SON',\n",
       "  'Fastrack',\n",
       "  'DEIXELS',\n",
       "  'IDEE',\n",
       "  'EYELLUSION',\n",
       "  'ROYAL SON',\n",
       "  'METRONAUT',\n",
       "  'ROZZETTA CRAFT',\n",
       "  'EYELLUSION',\n",
       "  'AISLIN',\n",
       "  'ROYAL SON',\n",
       "  'SUNBEE',\n",
       "  'ROZZETTA CRAFT',\n",
       "  'IDEE',\n",
       "  'kingsunglasses',\n",
       "  'ROYAL SON',\n",
       "  'ROYAL SON',\n",
       "  'ROYAL SON',\n",
       "  'IDEE']]"
      ]
     },
     "execution_count": 48,
     "metadata": {},
     "output_type": "execute_result"
    }
   ],
   "source": [
    "Product_description"
   ]
  },
  {
   "cell_type": "markdown",
   "id": "79550b9a",
   "metadata": {},
   "source": [
    "### Ans 5. Scrape 100 reviews data from flipkart.com for iphone11 phone\n",
    "1. Rating\n",
    "2. Review summary\n",
    "3. Full review\n",
    "4. You have to scrape this data for first 100 reviews."
   ]
  },
  {
   "cell_type": "code",
   "execution_count": 49,
   "id": "2e3ec720",
   "metadata": {},
   "outputs": [],
   "source": [
    "driver=webdriver.Edge(r\"C:\\Users\\ACER\\Desktop\\DT\\Intership\\Web scraping selenium\\edgedriver_win64\\msedgedriver.exe\")"
   ]
  },
  {
   "cell_type": "code",
   "execution_count": 50,
   "id": "08fae81d",
   "metadata": {},
   "outputs": [],
   "source": [
    "driver.maximize_window()"
   ]
  },
  {
   "cell_type": "code",
   "execution_count": 51,
   "id": "39fc2f15",
   "metadata": {},
   "outputs": [],
   "source": [
    "url5='https://www.flipkart.com/apple-iphone-11-black-64-gb-includes- earpods-power- adapter/p/itm0f37c2240b217?pid=MOBFKCTSVZAXUHGR&lid=LSTMOBFKC TSVZAXUHGREPBFGI&marketplace'\n",
    "driver.get(url5)"
   ]
  },
  {
   "cell_type": "code",
   "execution_count": 52,
   "id": "475731f8",
   "metadata": {},
   "outputs": [],
   "source": [
    "# Searching iphone 11\n",
    "\n",
    "search=driver.find_element(By.CLASS_NAME,\"_3704LK\")\n",
    "search.send_keys('iphone_11')\n"
   ]
  },
  {
   "cell_type": "code",
   "execution_count": 53,
   "id": "e695a3cd",
   "metadata": {},
   "outputs": [],
   "source": [
    "Search_btn=driver.find_element(By.CLASS_NAME,\"_34RNph\")\n",
    "Search_btn.click()"
   ]
  },
  {
   "cell_type": "markdown",
   "id": "c459f6fe",
   "metadata": {},
   "source": [
    "### Extrack the rating details  of all 100 nos iphone 11"
   ]
  },
  {
   "cell_type": "code",
   "execution_count": 54,
   "id": "d8101af1",
   "metadata": {},
   "outputs": [
    {
     "data": {
      "text/plain": [
       "['4.6',\n",
       " '4.6',\n",
       " '4.6',\n",
       " '4.6',\n",
       " '4.6',\n",
       " '4.6',\n",
       " '4.6',\n",
       " '4.6',\n",
       " '4.6',\n",
       " '4.6',\n",
       " '4.6',\n",
       " '4.6',\n",
       " '4.4',\n",
       " '4.7',\n",
       " '4.6',\n",
       " '4.7',\n",
       " '4.6',\n",
       " '4.7',\n",
       " '4.7',\n",
       " '4.6',\n",
       " '4.7',\n",
       " '4.6',\n",
       " '4.7',\n",
       " '4.6']"
      ]
     },
     "execution_count": 54,
     "metadata": {},
     "output_type": "execute_result"
    }
   ],
   "source": [
    "Rateing= []\n",
    "rate=driver.find_elements(By.XPATH,'//span[@class=\"_1lRcqv\"]')\n",
    "for i in rate:\n",
    "    Rateing.append(i.text)\n",
    "\n",
    "Rateing\n",
    "        \n",
    "    \n"
   ]
  },
  {
   "cell_type": "code",
   "execution_count": 55,
   "id": "35cf7649",
   "metadata": {},
   "outputs": [
    {
     "data": {
      "text/plain": [
       "24"
      ]
     },
     "execution_count": 55,
     "metadata": {},
     "output_type": "execute_result"
    }
   ],
   "source": [
    "len(Rateing)"
   ]
  },
  {
   "cell_type": "code",
   "execution_count": 56,
   "id": "6b523a6d",
   "metadata": {},
   "outputs": [],
   "source": [
    "# Rateing= []\n",
    "# start=0\n",
    "# end=4\n",
    "\n",
    "# for page in range(start,end):\n",
    "#     rate=driver.find_elements(By.XPATH,'//span[@class=\"_1lRcqv\"]')\n",
    "#     for i in rate:\n",
    "#         Rateing.append(i.text)\n",
    "#     next_page=driver.find_element(By.XPATH,'/html/body/div/div/div[3]/div[1]/div[2]/div[26]/div/div/nav/a[4]')\n",
    "#     next_page.click()\n",
    "# Rateing\n",
    "      \n"
   ]
  },
  {
   "cell_type": "code",
   "execution_count": 57,
   "id": "2bbb459b",
   "metadata": {},
   "outputs": [
    {
     "data": {
      "text/plain": [
       "['4.6',\n",
       " '4.6',\n",
       " '4.6',\n",
       " '4.6',\n",
       " '4.6',\n",
       " '4.6',\n",
       " '4.6',\n",
       " '4.6',\n",
       " '4.6',\n",
       " '4.6',\n",
       " '4.6',\n",
       " '4.6',\n",
       " '4.4',\n",
       " '4.7',\n",
       " '4.6',\n",
       " '4.7',\n",
       " '4.6',\n",
       " '4.7',\n",
       " '4.7',\n",
       " '4.6',\n",
       " '4.7',\n",
       " '4.6',\n",
       " '4.7',\n",
       " '4.6']"
      ]
     },
     "execution_count": 57,
     "metadata": {},
     "output_type": "execute_result"
    }
   ],
   "source": [
    "next_page=flipkart.find_element(By.XPATH,'/html/body/div[1]/div/div[3]/div[1]/div[2]/div[12]/div/div/nav/a[12]/span')\n",
    "next_page.click()\n",
    "Rateing= []\n",
    "rate=driver.find_elements(By.XPATH,'//span[@class=\"_1lRcqv\"]')\n",
    "for i in rate:\n",
    "    Rateing.append(i.text)\n",
    "\n",
    "Rateing"
   ]
  },
  {
   "cell_type": "markdown",
   "id": "149c9d23",
   "metadata": {},
   "source": [
    "### Extract Review Summary of iphone 11"
   ]
  },
  {
   "cell_type": "code",
   "execution_count": 58,
   "id": "2b7fc587",
   "metadata": {},
   "outputs": [],
   "source": [
    "previous_page=driver.find_element(By.CLASS_NAME,\"_1LKTO3\")\n",
    "previous_page.click()\n"
   ]
  },
  {
   "cell_type": "code",
   "execution_count": 59,
   "id": "2f364d98",
   "metadata": {},
   "outputs": [],
   "source": [
    "Open_review=driver.find_element(By.CLASS_NAME,\"_2_R_DZ\")\n",
    "Open_review.click()"
   ]
  },
  {
   "cell_type": "code",
   "execution_count": 77,
   "id": "f10a5ecc",
   "metadata": {},
   "outputs": [],
   "source": [
    "url='https://www.flipkart.com/apple-iphone-11-black-64-gb/p/itm4e5041ba101fd?pid=MOBFWQ6BXGJCEYNY&lid=LSTMOBFWQ6BXGJCEYNYZXSHRJ&marketplace=FLIPKART&q=iphone_11&store=tyy%2F4io&srno=s_1_1&otracker=search&otracker1=search&fm=Search&iid=48702d49-6b13-44d3-8678-310e5a3e8608.MOBFWQ6BXGJCEYNY.SEARCH&ppt=sp&ppn=sp&ssid=zv1rc5t9io0000001667462460466&qH=7bd6641e9a6b9748'\n",
    "driver.get(url)"
   ]
  },
  {
   "cell_type": "code",
   "execution_count": 78,
   "id": "e7328f93",
   "metadata": {},
   "outputs": [],
   "source": [
    "# Review summary of iphone 11"
   ]
  },
  {
   "cell_type": "code",
   "execution_count": 79,
   "id": "1dee118a",
   "metadata": {},
   "outputs": [
    {
     "data": {
      "text/plain": [
       "['Simply awesome',\n",
       " 'Value-for-money',\n",
       " 'Perfect product!',\n",
       " '',\n",
       " '',\n",
       " '',\n",
       " '',\n",
       " '',\n",
       " '',\n",
       " '']"
      ]
     },
     "execution_count": 79,
     "metadata": {},
     "output_type": "execute_result"
    }
   ],
   "source": [
    "review_summary= []\n",
    "summary=driver.find_elements(By.XPATH,'//p[@class=\"_2-N8zT\"]')\n",
    "for i in summary:\n",
    "    review_summary.append(i.text)\n",
    "review_summary"
   ]
  },
  {
   "cell_type": "code",
   "execution_count": 80,
   "id": "cbc71c39",
   "metadata": {},
   "outputs": [
    {
     "data": {
      "text/plain": [
       "['Really satisfied with the Product I received... It’s totally genuine and the packaging was also really good so if ur planning to buy just go for it.',\n",
       " \"I'm Really happy with the product\\nDelivery was fast as well\\n..it was a gift for my sister and she loved it so much.\",\n",
       " 'Amazing phone with great cameras and better battery which gives you the best performance. I just love the camera .',\n",
       " '',\n",
       " '',\n",
       " '',\n",
       " '',\n",
       " '',\n",
       " '',\n",
       " '']"
      ]
     },
     "execution_count": 80,
     "metadata": {},
     "output_type": "execute_result"
    }
   ],
   "source": [
    "review_full= []\n",
    "review=driver.find_elements(By.XPATH,'//div[@class=\"t-ZTKy\"]')\n",
    "for i in review:\n",
    "    review_full.append(i.text)\n",
    "review_full"
   ]
  },
  {
   "cell_type": "code",
   "execution_count": 81,
   "id": "fe10cac3",
   "metadata": {},
   "outputs": [
    {
     "data": {
      "text/html": [
       "<div>\n",
       "<style scoped>\n",
       "    .dataframe tbody tr th:only-of-type {\n",
       "        vertical-align: middle;\n",
       "    }\n",
       "\n",
       "    .dataframe tbody tr th {\n",
       "        vertical-align: top;\n",
       "    }\n",
       "\n",
       "    .dataframe thead th {\n",
       "        text-align: right;\n",
       "    }\n",
       "</style>\n",
       "<table border=\"1\" class=\"dataframe\">\n",
       "  <thead>\n",
       "    <tr style=\"text-align: right;\">\n",
       "      <th></th>\n",
       "      <th>0</th>\n",
       "    </tr>\n",
       "  </thead>\n",
       "  <tbody>\n",
       "    <tr>\n",
       "      <th>0</th>\n",
       "      <td>Really satisfied with the Product I received.....</td>\n",
       "    </tr>\n",
       "    <tr>\n",
       "      <th>1</th>\n",
       "      <td>I'm Really happy with the product\\nDelivery wa...</td>\n",
       "    </tr>\n",
       "    <tr>\n",
       "      <th>2</th>\n",
       "      <td>Amazing phone with great cameras and better ba...</td>\n",
       "    </tr>\n",
       "    <tr>\n",
       "      <th>3</th>\n",
       "      <td></td>\n",
       "    </tr>\n",
       "    <tr>\n",
       "      <th>4</th>\n",
       "      <td></td>\n",
       "    </tr>\n",
       "    <tr>\n",
       "      <th>5</th>\n",
       "      <td></td>\n",
       "    </tr>\n",
       "    <tr>\n",
       "      <th>6</th>\n",
       "      <td></td>\n",
       "    </tr>\n",
       "    <tr>\n",
       "      <th>7</th>\n",
       "      <td></td>\n",
       "    </tr>\n",
       "    <tr>\n",
       "      <th>8</th>\n",
       "      <td></td>\n",
       "    </tr>\n",
       "    <tr>\n",
       "      <th>9</th>\n",
       "      <td></td>\n",
       "    </tr>\n",
       "  </tbody>\n",
       "</table>\n",
       "</div>"
      ],
      "text/plain": [
       "                                                   0\n",
       "0  Really satisfied with the Product I received.....\n",
       "1  I'm Really happy with the product\\nDelivery wa...\n",
       "2  Amazing phone with great cameras and better ba...\n",
       "3                                                   \n",
       "4                                                   \n",
       "5                                                   \n",
       "6                                                   \n",
       "7                                                   \n",
       "8                                                   \n",
       "9                                                   "
      ]
     },
     "execution_count": 81,
     "metadata": {},
     "output_type": "execute_result"
    }
   ],
   "source": [
    "pd.DataFrame(review_full)"
   ]
  },
  {
   "cell_type": "markdown",
   "id": "05bf7896",
   "metadata": {},
   "source": [
    "### Ans.6\n",
    "### Extract sneakers from flipkart web pages"
   ]
  },
  {
   "cell_type": "code",
   "execution_count": 82,
   "id": "f9415d8a",
   "metadata": {},
   "outputs": [],
   "source": [
    "flipkart6=webdriver.Edge(r\"C:\\Users\\ACER\\Desktop\\DT\\Intership\\Web scraping selenium\\edgedriver_win64\\msedgedriver.exe\")"
   ]
  },
  {
   "cell_type": "code",
   "execution_count": 83,
   "id": "016c7051",
   "metadata": {},
   "outputs": [],
   "source": [
    "flipkart6.maximize_window()"
   ]
  },
  {
   "cell_type": "code",
   "execution_count": 84,
   "id": "1d167351",
   "metadata": {},
   "outputs": [],
   "source": [
    "url6='https://www.flipkart.com/'\n",
    "flipkart6.get(url6)"
   ]
  },
  {
   "cell_type": "code",
   "execution_count": 85,
   "id": "6306a9af",
   "metadata": {},
   "outputs": [],
   "source": [
    "search_sneakers=flipkart6.find_element(By.CLASS_NAME,\"_3704LK\")\n",
    "search_sneakers.send_keys('sneakers')"
   ]
  },
  {
   "cell_type": "code",
   "execution_count": 86,
   "id": "57d795ad",
   "metadata": {},
   "outputs": [],
   "source": [
    "search_btn=flipkart6.find_element(By.CLASS_NAME,'L0Z3Pu')\n",
    "search_btn.click()"
   ]
  },
  {
   "cell_type": "code",
   "execution_count": 90,
   "id": "5078ea58",
   "metadata": {},
   "outputs": [
    {
     "data": {
      "text/html": [
       "<div>\n",
       "<style scoped>\n",
       "    .dataframe tbody tr th:only-of-type {\n",
       "        vertical-align: middle;\n",
       "    }\n",
       "\n",
       "    .dataframe tbody tr th {\n",
       "        vertical-align: top;\n",
       "    }\n",
       "\n",
       "    .dataframe thead th {\n",
       "        text-align: right;\n",
       "    }\n",
       "</style>\n",
       "<table border=\"1\" class=\"dataframe\">\n",
       "  <thead>\n",
       "    <tr style=\"text-align: right;\">\n",
       "      <th></th>\n",
       "      <th>sneakers</th>\n",
       "    </tr>\n",
       "  </thead>\n",
       "  <tbody>\n",
       "    <tr>\n",
       "      <th>0</th>\n",
       "      <td>aadi</td>\n",
       "    </tr>\n",
       "    <tr>\n",
       "      <th>1</th>\n",
       "      <td>Real Bliss</td>\n",
       "    </tr>\n",
       "    <tr>\n",
       "      <th>2</th>\n",
       "      <td>RED TAPE</td>\n",
       "    </tr>\n",
       "    <tr>\n",
       "      <th>3</th>\n",
       "      <td>RED TAPE</td>\n",
       "    </tr>\n",
       "    <tr>\n",
       "      <th>4</th>\n",
       "      <td>Labbin</td>\n",
       "    </tr>\n",
       "    <tr>\n",
       "      <th>...</th>\n",
       "      <td>...</td>\n",
       "    </tr>\n",
       "    <tr>\n",
       "      <th>115</th>\n",
       "      <td>BRUTON</td>\n",
       "    </tr>\n",
       "    <tr>\n",
       "      <th>116</th>\n",
       "      <td>PUMA</td>\n",
       "    </tr>\n",
       "    <tr>\n",
       "      <th>117</th>\n",
       "      <td>PUMA</td>\n",
       "    </tr>\n",
       "    <tr>\n",
       "      <th>118</th>\n",
       "      <td>Sparx</td>\n",
       "    </tr>\n",
       "    <tr>\n",
       "      <th>119</th>\n",
       "      <td>BERSACHE</td>\n",
       "    </tr>\n",
       "  </tbody>\n",
       "</table>\n",
       "<p>120 rows × 1 columns</p>\n",
       "</div>"
      ],
      "text/plain": [
       "       sneakers\n",
       "0          aadi\n",
       "1    Real Bliss\n",
       "2      RED TAPE\n",
       "3      RED TAPE\n",
       "4        Labbin\n",
       "..          ...\n",
       "115      BRUTON\n",
       "116        PUMA\n",
       "117        PUMA\n",
       "118       Sparx\n",
       "119    BERSACHE\n",
       "\n",
       "[120 rows x 1 columns]"
      ]
     },
     "execution_count": 90,
     "metadata": {},
     "output_type": "execute_result"
    }
   ],
   "source": [
    "sneakers= []\n",
    "start=0\n",
    "end=3\n",
    "for page in range(start,end):\n",
    "    sneakers1=flipkart6.find_elements(By.XPATH,'//div[@class=\"_2WkVRV\"]')\n",
    "    for i in sneakers1:\n",
    "        sneakers.append(i.text)\n",
    "        \n",
    "    next_btn=flipkart6.find_element(By.XPATH, '//a[@class=\"ge-49M _2Kfbh8\"]')\n",
    "    next_btn.click()\n",
    "    \n",
    "pd.DataFrame({'sneakers':sneakers})"
   ]
  },
  {
   "cell_type": "code",
   "execution_count": 91,
   "id": "6d27e50c",
   "metadata": {},
   "outputs": [],
   "source": [
    "# extract Brand of sneakers"
   ]
  },
  {
   "cell_type": "code",
   "execution_count": 92,
   "id": "3dea88e1",
   "metadata": {},
   "outputs": [],
   "source": [
    "brand1= []\n",
    "start=0\n",
    "end=3\n",
    "for page in range(start,end):\n",
    "    brand=flipkart6.find_elements(By.XPATH,'//div[@class=\"_2WkVRV\"]')\n",
    "    for i in brand[0:100]:\n",
    "        brand1.append(i.text)\n",
    "        \n",
    "    next_btn=flipkart6.find_element(By.XPATH, '//a[@class=\"ge-49M _2Kfbh8\"]')\n",
    "    next_btn.click()\n",
    "    \n",
    "    "
   ]
  },
  {
   "cell_type": "code",
   "execution_count": 93,
   "id": "3b5b46df",
   "metadata": {
    "scrolled": true
   },
   "outputs": [
    {
     "data": {
      "text/plain": [
       "['aadi',\n",
       " 'GVR',\n",
       " 'RED TAPE',\n",
       " 'RED TAPE',\n",
       " 'Labbin',\n",
       " 'PUMA',\n",
       " 'TR',\n",
       " 'Real Bliss',\n",
       " 'Kraasa',\n",
       " 'BRUTON',\n",
       " 'VENDOZ',\n",
       " 'gargcreation',\n",
       " 'Magnolia',\n",
       " 'BRUTON',\n",
       " 'RapidBox',\n",
       " 'T-ROCK',\n",
       " 'asian',\n",
       " 'PUMA',\n",
       " 'SCATCHITE',\n",
       " 'Deals4you',\n",
       " 'PUMA',\n",
       " 'Furo',\n",
       " 'aadi',\n",
       " 'World Wear Footwear',\n",
       " 'BRUTON',\n",
       " 'Robbie jones',\n",
       " 'Furo',\n",
       " 'Zixer',\n",
       " 'HOTSTYLE',\n",
       " 'ASTEROID',\n",
       " 'PUMA',\n",
       " 'Fresh1947Feet',\n",
       " 'ASTEROID',\n",
       " 'TR',\n",
       " 'Magnolia',\n",
       " 'BRUTON',\n",
       " 'PUMA',\n",
       " 'PUMA',\n",
       " 'Sparx',\n",
       " 'BERSACHE',\n",
       " 'aadi',\n",
       " 'GVR',\n",
       " 'RED TAPE',\n",
       " 'RED TAPE',\n",
       " 'Labbin',\n",
       " 'PUMA',\n",
       " 'TR',\n",
       " 'Real Bliss',\n",
       " 'Kraasa',\n",
       " 'BRUTON',\n",
       " 'VENDOZ',\n",
       " 'gargcreation',\n",
       " 'Magnolia',\n",
       " 'BRUTON',\n",
       " 'RapidBox',\n",
       " 'T-ROCK',\n",
       " 'asian',\n",
       " 'PUMA',\n",
       " 'SCATCHITE',\n",
       " 'Deals4you',\n",
       " 'PUMA',\n",
       " 'Furo',\n",
       " 'aadi',\n",
       " 'World Wear Footwear',\n",
       " 'BRUTON',\n",
       " 'Robbie jones',\n",
       " 'Furo',\n",
       " 'Zixer',\n",
       " 'HOTSTYLE',\n",
       " 'ASTEROID',\n",
       " 'PUMA',\n",
       " 'Fresh1947Feet',\n",
       " 'ASTEROID',\n",
       " 'TR',\n",
       " 'Magnolia',\n",
       " 'BRUTON',\n",
       " 'PUMA',\n",
       " 'PUMA',\n",
       " 'Sparx',\n",
       " 'BERSACHE',\n",
       " 'aadi',\n",
       " 'GVR',\n",
       " 'RED TAPE',\n",
       " 'RED TAPE',\n",
       " 'Labbin',\n",
       " 'PUMA',\n",
       " 'TR',\n",
       " 'Real Bliss',\n",
       " 'Kraasa',\n",
       " 'BRUTON',\n",
       " 'VENDOZ',\n",
       " 'gargcreation',\n",
       " 'Magnolia',\n",
       " 'BRUTON',\n",
       " 'RapidBox',\n",
       " 'T-ROCK',\n",
       " 'asian',\n",
       " 'PUMA',\n",
       " 'SCATCHITE',\n",
       " 'Deals4you']"
      ]
     },
     "execution_count": 93,
     "metadata": {},
     "output_type": "execute_result"
    }
   ],
   "source": [
    "brand1[0:100]"
   ]
  },
  {
   "cell_type": "code",
   "execution_count": 94,
   "id": "79331747",
   "metadata": {},
   "outputs": [
    {
     "data": {
      "text/plain": [
       "120"
      ]
     },
     "execution_count": 94,
     "metadata": {},
     "output_type": "execute_result"
    }
   ],
   "source": [
    "len(brand1)"
   ]
  },
  {
   "cell_type": "code",
   "execution_count": 95,
   "id": "07738123",
   "metadata": {},
   "outputs": [],
   "source": [
    "# Extract Product Description"
   ]
  },
  {
   "cell_type": "code",
   "execution_count": 96,
   "id": "3aee1ea2",
   "metadata": {},
   "outputs": [
    {
     "data": {
      "text/html": [
       "<div>\n",
       "<style scoped>\n",
       "    .dataframe tbody tr th:only-of-type {\n",
       "        vertical-align: middle;\n",
       "    }\n",
       "\n",
       "    .dataframe tbody tr th {\n",
       "        vertical-align: top;\n",
       "    }\n",
       "\n",
       "    .dataframe thead th {\n",
       "        text-align: right;\n",
       "    }\n",
       "</style>\n",
       "<table border=\"1\" class=\"dataframe\">\n",
       "  <thead>\n",
       "    <tr style=\"text-align: right;\">\n",
       "      <th></th>\n",
       "      <th>Product_Description</th>\n",
       "    </tr>\n",
       "  </thead>\n",
       "  <tbody>\n",
       "    <tr>\n",
       "      <th>0</th>\n",
       "      <td>Sneakers For Men</td>\n",
       "    </tr>\n",
       "    <tr>\n",
       "      <th>1</th>\n",
       "      <td>Sneakers For Men</td>\n",
       "    </tr>\n",
       "    <tr>\n",
       "      <th>2</th>\n",
       "      <td>Sneakers For Men</td>\n",
       "    </tr>\n",
       "    <tr>\n",
       "      <th>3</th>\n",
       "      <td>Sneakers For Men</td>\n",
       "    </tr>\n",
       "    <tr>\n",
       "      <th>4</th>\n",
       "      <td>Sneakers For Men</td>\n",
       "    </tr>\n",
       "    <tr>\n",
       "      <th>...</th>\n",
       "      <td>...</td>\n",
       "    </tr>\n",
       "    <tr>\n",
       "      <th>106</th>\n",
       "      <td>Modern Trendy Sneakers Shoes Sneakers For Men</td>\n",
       "    </tr>\n",
       "    <tr>\n",
       "      <th>107</th>\n",
       "      <td>Adelina Sneakers For Women</td>\n",
       "    </tr>\n",
       "    <tr>\n",
       "      <th>108</th>\n",
       "      <td>BMW MMS Wired Cage Sneakers For Men</td>\n",
       "    </tr>\n",
       "    <tr>\n",
       "      <th>109</th>\n",
       "      <td>SM-671 Sneakers For Men</td>\n",
       "    </tr>\n",
       "    <tr>\n",
       "      <th>110</th>\n",
       "      <td>Sneakers Shoes for Woman ORIWFSH-1680 Sneakers...</td>\n",
       "    </tr>\n",
       "  </tbody>\n",
       "</table>\n",
       "<p>111 rows × 1 columns</p>\n",
       "</div>"
      ],
      "text/plain": [
       "                                   Product_Description\n",
       "0                                     Sneakers For Men\n",
       "1                                     Sneakers For Men\n",
       "2                                     Sneakers For Men\n",
       "3                                     Sneakers For Men\n",
       "4                                     Sneakers For Men\n",
       "..                                                 ...\n",
       "106      Modern Trendy Sneakers Shoes Sneakers For Men\n",
       "107                         Adelina Sneakers For Women\n",
       "108                BMW MMS Wired Cage Sneakers For Men\n",
       "109                            SM-671 Sneakers For Men\n",
       "110  Sneakers Shoes for Woman ORIWFSH-1680 Sneakers...\n",
       "\n",
       "[111 rows x 1 columns]"
      ]
     },
     "execution_count": 96,
     "metadata": {},
     "output_type": "execute_result"
    }
   ],
   "source": [
    "Product_Description= []\n",
    "start=0\n",
    "end=3\n",
    "for page in range(start,end):\n",
    "    product_descrp=flipkart6.find_elements(By.XPATH,'//a[@class=\"IRpwTa\"]')\n",
    "    for i in product_descrp:\n",
    "        Product_Description.append(i.text)\n",
    "        \n",
    "    next_btn=flipkart6.find_element(By.XPATH,'//a[@class=\"ge-49M _2Kfbh8\"]')\n",
    "    next_btn.click()\n",
    "pd.DataFrame({'Product_Description':Product_Description})"
   ]
  },
  {
   "cell_type": "code",
   "execution_count": 97,
   "id": "79e8d05a",
   "metadata": {},
   "outputs": [
    {
     "data": {
      "text/plain": [
       "111"
      ]
     },
     "execution_count": 97,
     "metadata": {},
     "output_type": "execute_result"
    }
   ],
   "source": [
    "len(Product_Description)"
   ]
  },
  {
   "cell_type": "code",
   "execution_count": 98,
   "id": "23334e2f",
   "metadata": {},
   "outputs": [],
   "source": [
    "# Extract Price of sneakers"
   ]
  },
  {
   "cell_type": "code",
   "execution_count": 99,
   "id": "318e36a8",
   "metadata": {},
   "outputs": [
    {
     "data": {
      "text/html": [
       "<div>\n",
       "<style scoped>\n",
       "    .dataframe tbody tr th:only-of-type {\n",
       "        vertical-align: middle;\n",
       "    }\n",
       "\n",
       "    .dataframe tbody tr th {\n",
       "        vertical-align: top;\n",
       "    }\n",
       "\n",
       "    .dataframe thead th {\n",
       "        text-align: right;\n",
       "    }\n",
       "</style>\n",
       "<table border=\"1\" class=\"dataframe\">\n",
       "  <thead>\n",
       "    <tr style=\"text-align: right;\">\n",
       "      <th></th>\n",
       "      <th>price</th>\n",
       "    </tr>\n",
       "  </thead>\n",
       "  <tbody>\n",
       "    <tr>\n",
       "      <th>0</th>\n",
       "      <td>₹299</td>\n",
       "    </tr>\n",
       "    <tr>\n",
       "      <th>1</th>\n",
       "      <td>₹629</td>\n",
       "    </tr>\n",
       "    <tr>\n",
       "      <th>2</th>\n",
       "      <td>₹1,149</td>\n",
       "    </tr>\n",
       "    <tr>\n",
       "      <th>3</th>\n",
       "      <td>₹1,241</td>\n",
       "    </tr>\n",
       "    <tr>\n",
       "      <th>4</th>\n",
       "      <td>₹395</td>\n",
       "    </tr>\n",
       "    <tr>\n",
       "      <th>...</th>\n",
       "      <td>...</td>\n",
       "    </tr>\n",
       "    <tr>\n",
       "      <th>115</th>\n",
       "      <td>₹324</td>\n",
       "    </tr>\n",
       "    <tr>\n",
       "      <th>116</th>\n",
       "      <td>₹3,229</td>\n",
       "    </tr>\n",
       "    <tr>\n",
       "      <th>117</th>\n",
       "      <td>₹5,519</td>\n",
       "    </tr>\n",
       "    <tr>\n",
       "      <th>118</th>\n",
       "      <td>₹879</td>\n",
       "    </tr>\n",
       "    <tr>\n",
       "      <th>119</th>\n",
       "      <td>₹299</td>\n",
       "    </tr>\n",
       "  </tbody>\n",
       "</table>\n",
       "<p>120 rows × 1 columns</p>\n",
       "</div>"
      ],
      "text/plain": [
       "      price\n",
       "0      ₹299\n",
       "1      ₹629\n",
       "2    ₹1,149\n",
       "3    ₹1,241\n",
       "4      ₹395\n",
       "..      ...\n",
       "115    ₹324\n",
       "116  ₹3,229\n",
       "117  ₹5,519\n",
       "118    ₹879\n",
       "119    ₹299\n",
       "\n",
       "[120 rows x 1 columns]"
      ]
     },
     "execution_count": 99,
     "metadata": {},
     "output_type": "execute_result"
    }
   ],
   "source": [
    "price= []\n",
    "start=0\n",
    "end=3\n",
    "for page in range(start,end):\n",
    "    price1=flipkart6.find_elements(By.XPATH,'//div[@class=\"_30jeq3\"]')\n",
    "    for i in price1:\n",
    "        price.append(i.text)\n",
    "    \n",
    "    next_btn=flipkart6.find_element(By.XPATH,'//a[@class=\"ge-49M _2Kfbh8\"]')\n",
    "    next_btn.click()\n",
    "    \n",
    "pd.DataFrame({'price':price})\n"
   ]
  },
  {
   "cell_type": "markdown",
   "id": "af198643",
   "metadata": {},
   "source": [
    "# Ans.  7\n",
    ". go to link & get webpage"
   ]
  },
  {
   "cell_type": "code",
   "execution_count": null,
   "id": "ccaa5b93",
   "metadata": {},
   "outputs": [],
   "source": [
    "driver7=webdriver.Edge(r\"C:\\Users\\ACER\\Desktop\\DT\\Intership\\Web scraping selenium\\edgedriver_win64\\msedgedriver.exe\")"
   ]
  },
  {
   "cell_type": "code",
   "execution_count": null,
   "id": "648e133a",
   "metadata": {},
   "outputs": [],
   "source": [
    "driver7.maximize_window()"
   ]
  },
  {
   "cell_type": "code",
   "execution_count": null,
   "id": "ca822cce",
   "metadata": {},
   "outputs": [],
   "source": [
    "url7='https://www.myntra.com/shoes'\n",
    "driver7.get(url7)"
   ]
  },
  {
   "cell_type": "code",
   "execution_count": null,
   "id": "e84dea3d",
   "metadata": {},
   "outputs": [],
   "source": [
    "search_price_black=driver7.find_element(By.CLASS_NAME,'header-title')\n",
    "search_price_black.click()\n"
   ]
  },
  {
   "cell_type": "code",
   "execution_count": null,
   "id": "e402d687",
   "metadata": {},
   "outputs": [],
   "source": [
    "click_btn=driver7.find_element(By.CLASS_NAME,'price-list')\n",
    "click_btn.click()\n"
   ]
  },
  {
   "cell_type": "code",
   "execution_count": null,
   "id": "c1d28f25",
   "metadata": {},
   "outputs": [],
   "source": [
    "Click_black=driver7.find_element(By.CLASS_NAME,'filter-search-filterSearchBox filter-search-expanded')\n",
    "Click_black.send_keys('Black')"
   ]
  },
  {
   "cell_type": "markdown",
   "id": "7ca6388b",
   "metadata": {},
   "source": [
    "# Ans 8."
   ]
  },
  {
   "cell_type": "code",
   "execution_count": null,
   "id": "86ee2cde",
   "metadata": {},
   "outputs": [],
   "source": []
  },
  {
   "cell_type": "code",
   "execution_count": 100,
   "id": "77d512e6",
   "metadata": {},
   "outputs": [],
   "source": [
    "driver=webdriver.Edge(r\"C:\\Users\\ACER\\Desktop\\DT\\Intership\\Web scraping selenium\\edgedriver_win64\\msedgedriver.exe\")"
   ]
  },
  {
   "cell_type": "code",
   "execution_count": 101,
   "id": "60e7174b",
   "metadata": {},
   "outputs": [],
   "source": [
    "driver.maximize_window()"
   ]
  },
  {
   "cell_type": "code",
   "execution_count": 102,
   "id": "ae21df15",
   "metadata": {},
   "outputs": [],
   "source": [
    "url8='https://www.amazon.in/'\n",
    "driver.get(url8)"
   ]
  },
  {
   "cell_type": "code",
   "execution_count": 106,
   "id": "8455514d",
   "metadata": {
    "collapsed": true
   },
   "outputs": [
    {
     "ename": "ElementNotInteractableException",
     "evalue": "Message: element not interactable\n  (Session info: MicrosoftEdge=107.0.1418.35)\nStacktrace:\nBacktrace:\n\tMicrosoft::Applications::Events::EventProperties::SetProperty [0x00007FF77CAF8592+9986]\n\tMicrosoft::Applications::Events::EventProperty::EventProperty [0x00007FF77CA95DC2+1445298]\n\tOrdinal0 [0x00007FF77C67FAF4+654068]\n\tOrdinal0 [0x00007FF77C6BCB92+904082]\n\tOrdinal0 [0x00007FF77C6BBE94+900756]\n\tOrdinal0 [0x00007FF77C6E3B9A+1063834]\n\tOrdinal0 [0x00007FF77C6B5FF4+876532]\n\tOrdinal0 [0x00007FF77C6B5EAF+876207]\n\tOrdinal0 [0x00007FF77C6E3E90+1064592]\n\tOrdinal0 [0x00007FF77C6B5FF4+876532]\n\tOrdinal0 [0x00007FF77C6FCF70+1167216]\n\tOrdinal0 [0x00007FF77C6E39B3+1063347]\n\tOrdinal0 [0x00007FF77C6B506A+872554]\n\tOrdinal0 [0x00007FF77C6B402E+868398]\n\tOrdinal0 [0x00007FF77C6B570F+874255]\n\tMicrosoft::Applications::Events::EventProperty::EventProperty [0x00007FF77C956108+135416]\n\tMicrosoft::Applications::Events::EventProperty::EventProperty [0x00007FF77C9402CF+45759]\n\tMicrosoft::Applications::Events::EventProperty::EventProperty [0x00007FF77C94374C+59196]\n\tOrdinal0 [0x00007FF77C78B1F4+1749492]\n\tMicrosoft::Applications::Events::EventProperty::EventProperty [0x00007FF77CA9B6BA+1468074]\n\tMicrosoft::Applications::Events::EventProperty::EventProperty [0x00007FF77CA9FF54+1486660]\n\tMicrosoft::Applications::Events::EventProperty::EventProperty [0x00007FF77CAA00AD+1487005]\n\tMicrosoft::Applications::Events::EventProperty::EventProperty [0x00007FF77CAA7E6B+1519195]\n\tBaseThreadInitThunk [0x00007FFA0CCE54E0+16]\n\tRtlUserThreadStart [0x00007FFA0EC6485B+43]\n",
     "output_type": "error",
     "traceback": [
      "\u001b[1;31m---------------------------------------------------------------------------\u001b[0m",
      "\u001b[1;31mElementNotInteractableException\u001b[0m           Traceback (most recent call last)",
      "Input \u001b[1;32mIn [106]\u001b[0m, in \u001b[0;36m<cell line: 2>\u001b[1;34m()\u001b[0m\n\u001b[0;32m      1\u001b[0m search_sneakers\u001b[38;5;241m=\u001b[39mdriver\u001b[38;5;241m.\u001b[39mfind_element(By\u001b[38;5;241m.\u001b[39mCLASS_NAME,\u001b[38;5;124m\"\u001b[39m\u001b[38;5;124mnav-fill\u001b[39m\u001b[38;5;124m\"\u001b[39m)\n\u001b[1;32m----> 2\u001b[0m \u001b[43msearch_sneakers\u001b[49m\u001b[38;5;241;43m.\u001b[39;49m\u001b[43msend_keys\u001b[49m\u001b[43m(\u001b[49m\u001b[38;5;124;43m'\u001b[39;49m\u001b[38;5;124;43mlaptop\u001b[39;49m\u001b[38;5;124;43m'\u001b[39;49m\u001b[43m)\u001b[49m\n",
      "File \u001b[1;32m~\\anaconda3\\lib\\site-packages\\selenium\\webdriver\\remote\\webelement.py:223\u001b[0m, in \u001b[0;36mWebElement.send_keys\u001b[1;34m(self, *value)\u001b[0m\n\u001b[0;32m    220\u001b[0m             remote_files\u001b[38;5;241m.\u001b[39mappend(\u001b[38;5;28mself\u001b[39m\u001b[38;5;241m.\u001b[39m_upload(file))\n\u001b[0;32m    221\u001b[0m         value \u001b[38;5;241m=\u001b[39m \u001b[38;5;124m'\u001b[39m\u001b[38;5;130;01m\\n\u001b[39;00m\u001b[38;5;124m'\u001b[39m\u001b[38;5;241m.\u001b[39mjoin(remote_files)\n\u001b[1;32m--> 223\u001b[0m \u001b[38;5;28;43mself\u001b[39;49m\u001b[38;5;241;43m.\u001b[39;49m\u001b[43m_execute\u001b[49m\u001b[43m(\u001b[49m\u001b[43mCommand\u001b[49m\u001b[38;5;241;43m.\u001b[39;49m\u001b[43mSEND_KEYS_TO_ELEMENT\u001b[49m\u001b[43m,\u001b[49m\n\u001b[0;32m    224\u001b[0m \u001b[43m              \u001b[49m\u001b[43m{\u001b[49m\u001b[38;5;124;43m'\u001b[39;49m\u001b[38;5;124;43mtext\u001b[39;49m\u001b[38;5;124;43m'\u001b[39;49m\u001b[43m:\u001b[49m\u001b[43m \u001b[49m\u001b[38;5;124;43m\"\u001b[39;49m\u001b[38;5;124;43m\"\u001b[39;49m\u001b[38;5;241;43m.\u001b[39;49m\u001b[43mjoin\u001b[49m\u001b[43m(\u001b[49m\u001b[43mkeys_to_typing\u001b[49m\u001b[43m(\u001b[49m\u001b[43mvalue\u001b[49m\u001b[43m)\u001b[49m\u001b[43m)\u001b[49m\u001b[43m,\u001b[49m\n\u001b[0;32m    225\u001b[0m \u001b[43m               \u001b[49m\u001b[38;5;124;43m'\u001b[39;49m\u001b[38;5;124;43mvalue\u001b[39;49m\u001b[38;5;124;43m'\u001b[39;49m\u001b[43m:\u001b[49m\u001b[43m \u001b[49m\u001b[43mkeys_to_typing\u001b[49m\u001b[43m(\u001b[49m\u001b[43mvalue\u001b[49m\u001b[43m)\u001b[49m\u001b[43m}\u001b[49m\u001b[43m)\u001b[49m\n",
      "File \u001b[1;32m~\\anaconda3\\lib\\site-packages\\selenium\\webdriver\\remote\\webelement.py:396\u001b[0m, in \u001b[0;36mWebElement._execute\u001b[1;34m(self, command, params)\u001b[0m\n\u001b[0;32m    394\u001b[0m     params \u001b[38;5;241m=\u001b[39m {}\n\u001b[0;32m    395\u001b[0m params[\u001b[38;5;124m'\u001b[39m\u001b[38;5;124mid\u001b[39m\u001b[38;5;124m'\u001b[39m] \u001b[38;5;241m=\u001b[39m \u001b[38;5;28mself\u001b[39m\u001b[38;5;241m.\u001b[39m_id\n\u001b[1;32m--> 396\u001b[0m \u001b[38;5;28;01mreturn\u001b[39;00m \u001b[38;5;28;43mself\u001b[39;49m\u001b[38;5;241;43m.\u001b[39;49m\u001b[43m_parent\u001b[49m\u001b[38;5;241;43m.\u001b[39;49m\u001b[43mexecute\u001b[49m\u001b[43m(\u001b[49m\u001b[43mcommand\u001b[49m\u001b[43m,\u001b[49m\u001b[43m \u001b[49m\u001b[43mparams\u001b[49m\u001b[43m)\u001b[49m\n",
      "File \u001b[1;32m~\\anaconda3\\lib\\site-packages\\selenium\\webdriver\\remote\\webdriver.py:429\u001b[0m, in \u001b[0;36mWebDriver.execute\u001b[1;34m(self, driver_command, params)\u001b[0m\n\u001b[0;32m    427\u001b[0m response \u001b[38;5;241m=\u001b[39m \u001b[38;5;28mself\u001b[39m\u001b[38;5;241m.\u001b[39mcommand_executor\u001b[38;5;241m.\u001b[39mexecute(driver_command, params)\n\u001b[0;32m    428\u001b[0m \u001b[38;5;28;01mif\u001b[39;00m response:\n\u001b[1;32m--> 429\u001b[0m     \u001b[38;5;28;43mself\u001b[39;49m\u001b[38;5;241;43m.\u001b[39;49m\u001b[43merror_handler\u001b[49m\u001b[38;5;241;43m.\u001b[39;49m\u001b[43mcheck_response\u001b[49m\u001b[43m(\u001b[49m\u001b[43mresponse\u001b[49m\u001b[43m)\u001b[49m\n\u001b[0;32m    430\u001b[0m     response[\u001b[38;5;124m'\u001b[39m\u001b[38;5;124mvalue\u001b[39m\u001b[38;5;124m'\u001b[39m] \u001b[38;5;241m=\u001b[39m \u001b[38;5;28mself\u001b[39m\u001b[38;5;241m.\u001b[39m_unwrap_value(\n\u001b[0;32m    431\u001b[0m         response\u001b[38;5;241m.\u001b[39mget(\u001b[38;5;124m'\u001b[39m\u001b[38;5;124mvalue\u001b[39m\u001b[38;5;124m'\u001b[39m, \u001b[38;5;28;01mNone\u001b[39;00m))\n\u001b[0;32m    432\u001b[0m     \u001b[38;5;28;01mreturn\u001b[39;00m response\n",
      "File \u001b[1;32m~\\anaconda3\\lib\\site-packages\\selenium\\webdriver\\remote\\errorhandler.py:243\u001b[0m, in \u001b[0;36mErrorHandler.check_response\u001b[1;34m(self, response)\u001b[0m\n\u001b[0;32m    241\u001b[0m         alert_text \u001b[38;5;241m=\u001b[39m value[\u001b[38;5;124m'\u001b[39m\u001b[38;5;124malert\u001b[39m\u001b[38;5;124m'\u001b[39m]\u001b[38;5;241m.\u001b[39mget(\u001b[38;5;124m'\u001b[39m\u001b[38;5;124mtext\u001b[39m\u001b[38;5;124m'\u001b[39m)\n\u001b[0;32m    242\u001b[0m     \u001b[38;5;28;01mraise\u001b[39;00m exception_class(message, screen, stacktrace, alert_text)  \u001b[38;5;66;03m# type: ignore[call-arg]  # mypy is not smart enough here\u001b[39;00m\n\u001b[1;32m--> 243\u001b[0m \u001b[38;5;28;01mraise\u001b[39;00m exception_class(message, screen, stacktrace)\n",
      "\u001b[1;31mElementNotInteractableException\u001b[0m: Message: element not interactable\n  (Session info: MicrosoftEdge=107.0.1418.35)\nStacktrace:\nBacktrace:\n\tMicrosoft::Applications::Events::EventProperties::SetProperty [0x00007FF77CAF8592+9986]\n\tMicrosoft::Applications::Events::EventProperty::EventProperty [0x00007FF77CA95DC2+1445298]\n\tOrdinal0 [0x00007FF77C67FAF4+654068]\n\tOrdinal0 [0x00007FF77C6BCB92+904082]\n\tOrdinal0 [0x00007FF77C6BBE94+900756]\n\tOrdinal0 [0x00007FF77C6E3B9A+1063834]\n\tOrdinal0 [0x00007FF77C6B5FF4+876532]\n\tOrdinal0 [0x00007FF77C6B5EAF+876207]\n\tOrdinal0 [0x00007FF77C6E3E90+1064592]\n\tOrdinal0 [0x00007FF77C6B5FF4+876532]\n\tOrdinal0 [0x00007FF77C6FCF70+1167216]\n\tOrdinal0 [0x00007FF77C6E39B3+1063347]\n\tOrdinal0 [0x00007FF77C6B506A+872554]\n\tOrdinal0 [0x00007FF77C6B402E+868398]\n\tOrdinal0 [0x00007FF77C6B570F+874255]\n\tMicrosoft::Applications::Events::EventProperty::EventProperty [0x00007FF77C956108+135416]\n\tMicrosoft::Applications::Events::EventProperty::EventProperty [0x00007FF77C9402CF+45759]\n\tMicrosoft::Applications::Events::EventProperty::EventProperty [0x00007FF77C94374C+59196]\n\tOrdinal0 [0x00007FF77C78B1F4+1749492]\n\tMicrosoft::Applications::Events::EventProperty::EventProperty [0x00007FF77CA9B6BA+1468074]\n\tMicrosoft::Applications::Events::EventProperty::EventProperty [0x00007FF77CA9FF54+1486660]\n\tMicrosoft::Applications::Events::EventProperty::EventProperty [0x00007FF77CAA00AD+1487005]\n\tMicrosoft::Applications::Events::EventProperty::EventProperty [0x00007FF77CAA7E6B+1519195]\n\tBaseThreadInitThunk [0x00007FFA0CCE54E0+16]\n\tRtlUserThreadStart [0x00007FFA0EC6485B+43]\n"
     ]
    }
   ],
   "source": [
    "search_sneakers=driver.find_element(By.CLASS_NAME,\"nav-fill\")\n",
    "search_sneakers.send_keys('laptop')"
   ]
  },
  {
   "cell_type": "code",
   "execution_count": 105,
   "id": "e29c1d82",
   "metadata": {},
   "outputs": [
    {
     "ename": "NoSuchElementException",
     "evalue": "Message: no such element: Unable to locate element: {\"method\":\"css selector\",\"selector\":\".nav-search-submit-button\"}\n  (Session info: MicrosoftEdge=107.0.1418.35)\nStacktrace:\nBacktrace:\n\tMicrosoft::Applications::Events::EventProperties::SetProperty [0x00007FF77CAF8592+9986]\n\tMicrosoft::Applications::Events::EventProperty::EventProperty [0x00007FF77CA95DC2+1445298]\n\tOrdinal0 [0x00007FF77C67FC8C+654476]\n\tOrdinal0 [0x00007FF77C6C36C2+931522]\n\tOrdinal0 [0x00007FF77C6C3B10+932624]\n\tOrdinal0 [0x00007FF77C6FFC17+1178647]\n\tOrdinal0 [0x00007FF77C6E3BDF+1063903]\n\tOrdinal0 [0x00007FF77C6B5FF4+876532]\n\tOrdinal0 [0x00007FF77C6FCF70+1167216]\n\tOrdinal0 [0x00007FF77C6E39B3+1063347]\n\tOrdinal0 [0x00007FF77C6B506A+872554]\n\tOrdinal0 [0x00007FF77C6B402E+868398]\n\tOrdinal0 [0x00007FF77C6B570F+874255]\n\tMicrosoft::Applications::Events::EventProperty::EventProperty [0x00007FF77C956108+135416]\n\tMicrosoft::Applications::Events::EventProperty::EventProperty [0x00007FF77C9402CF+45759]\n\tMicrosoft::Applications::Events::EventProperty::EventProperty [0x00007FF77C94374C+59196]\n\tOrdinal0 [0x00007FF77C78B1F4+1749492]\n\tMicrosoft::Applications::Events::EventProperty::EventProperty [0x00007FF77CA9B6BA+1468074]\n\tMicrosoft::Applications::Events::EventProperty::EventProperty [0x00007FF77CA9FF54+1486660]\n\tMicrosoft::Applications::Events::EventProperty::EventProperty [0x00007FF77CAA00AD+1487005]\n\tMicrosoft::Applications::Events::EventProperty::EventProperty [0x00007FF77CAA7E6B+1519195]\n\tBaseThreadInitThunk [0x00007FFA0CCE54E0+16]\n\tRtlUserThreadStart [0x00007FFA0EC6485B+43]\n",
     "output_type": "error",
     "traceback": [
      "\u001b[1;31m---------------------------------------------------------------------------\u001b[0m",
      "\u001b[1;31mNoSuchElementException\u001b[0m                    Traceback (most recent call last)",
      "Input \u001b[1;32mIn [105]\u001b[0m, in \u001b[0;36m<cell line: 1>\u001b[1;34m()\u001b[0m\n\u001b[1;32m----> 1\u001b[0m search8_btn\u001b[38;5;241m=\u001b[39m\u001b[43mdriver\u001b[49m\u001b[38;5;241;43m.\u001b[39;49m\u001b[43mfind_element\u001b[49m\u001b[43m(\u001b[49m\u001b[43mBy\u001b[49m\u001b[38;5;241;43m.\u001b[39;49m\u001b[43mCLASS_NAME\u001b[49m\u001b[43m,\u001b[49m\u001b[38;5;124;43m'\u001b[39;49m\u001b[38;5;124;43mnav-search-submit-button\u001b[39;49m\u001b[38;5;124;43m'\u001b[39;49m\u001b[43m)\u001b[49m\n\u001b[0;32m      2\u001b[0m search_btn\u001b[38;5;241m.\u001b[39mclick()\n",
      "File \u001b[1;32m~\\anaconda3\\lib\\site-packages\\selenium\\webdriver\\remote\\webdriver.py:856\u001b[0m, in \u001b[0;36mWebDriver.find_element\u001b[1;34m(self, by, value)\u001b[0m\n\u001b[0;32m    853\u001b[0m     by \u001b[38;5;241m=\u001b[39m By\u001b[38;5;241m.\u001b[39mCSS_SELECTOR\n\u001b[0;32m    854\u001b[0m     value \u001b[38;5;241m=\u001b[39m \u001b[38;5;124m'\u001b[39m\u001b[38;5;124m[name=\u001b[39m\u001b[38;5;124m\"\u001b[39m\u001b[38;5;132;01m%s\u001b[39;00m\u001b[38;5;124m\"\u001b[39m\u001b[38;5;124m]\u001b[39m\u001b[38;5;124m'\u001b[39m \u001b[38;5;241m%\u001b[39m value\n\u001b[1;32m--> 856\u001b[0m \u001b[38;5;28;01mreturn\u001b[39;00m \u001b[38;5;28;43mself\u001b[39;49m\u001b[38;5;241;43m.\u001b[39;49m\u001b[43mexecute\u001b[49m\u001b[43m(\u001b[49m\u001b[43mCommand\u001b[49m\u001b[38;5;241;43m.\u001b[39;49m\u001b[43mFIND_ELEMENT\u001b[49m\u001b[43m,\u001b[49m\u001b[43m \u001b[49m\u001b[43m{\u001b[49m\n\u001b[0;32m    857\u001b[0m \u001b[43m    \u001b[49m\u001b[38;5;124;43m'\u001b[39;49m\u001b[38;5;124;43musing\u001b[39;49m\u001b[38;5;124;43m'\u001b[39;49m\u001b[43m:\u001b[49m\u001b[43m \u001b[49m\u001b[43mby\u001b[49m\u001b[43m,\u001b[49m\n\u001b[0;32m    858\u001b[0m \u001b[43m    \u001b[49m\u001b[38;5;124;43m'\u001b[39;49m\u001b[38;5;124;43mvalue\u001b[39;49m\u001b[38;5;124;43m'\u001b[39;49m\u001b[43m:\u001b[49m\u001b[43m \u001b[49m\u001b[43mvalue\u001b[49m\u001b[43m}\u001b[49m\u001b[43m)\u001b[49m[\u001b[38;5;124m'\u001b[39m\u001b[38;5;124mvalue\u001b[39m\u001b[38;5;124m'\u001b[39m]\n",
      "File \u001b[1;32m~\\anaconda3\\lib\\site-packages\\selenium\\webdriver\\remote\\webdriver.py:429\u001b[0m, in \u001b[0;36mWebDriver.execute\u001b[1;34m(self, driver_command, params)\u001b[0m\n\u001b[0;32m    427\u001b[0m response \u001b[38;5;241m=\u001b[39m \u001b[38;5;28mself\u001b[39m\u001b[38;5;241m.\u001b[39mcommand_executor\u001b[38;5;241m.\u001b[39mexecute(driver_command, params)\n\u001b[0;32m    428\u001b[0m \u001b[38;5;28;01mif\u001b[39;00m response:\n\u001b[1;32m--> 429\u001b[0m     \u001b[38;5;28;43mself\u001b[39;49m\u001b[38;5;241;43m.\u001b[39;49m\u001b[43merror_handler\u001b[49m\u001b[38;5;241;43m.\u001b[39;49m\u001b[43mcheck_response\u001b[49m\u001b[43m(\u001b[49m\u001b[43mresponse\u001b[49m\u001b[43m)\u001b[49m\n\u001b[0;32m    430\u001b[0m     response[\u001b[38;5;124m'\u001b[39m\u001b[38;5;124mvalue\u001b[39m\u001b[38;5;124m'\u001b[39m] \u001b[38;5;241m=\u001b[39m \u001b[38;5;28mself\u001b[39m\u001b[38;5;241m.\u001b[39m_unwrap_value(\n\u001b[0;32m    431\u001b[0m         response\u001b[38;5;241m.\u001b[39mget(\u001b[38;5;124m'\u001b[39m\u001b[38;5;124mvalue\u001b[39m\u001b[38;5;124m'\u001b[39m, \u001b[38;5;28;01mNone\u001b[39;00m))\n\u001b[0;32m    432\u001b[0m     \u001b[38;5;28;01mreturn\u001b[39;00m response\n",
      "File \u001b[1;32m~\\anaconda3\\lib\\site-packages\\selenium\\webdriver\\remote\\errorhandler.py:243\u001b[0m, in \u001b[0;36mErrorHandler.check_response\u001b[1;34m(self, response)\u001b[0m\n\u001b[0;32m    241\u001b[0m         alert_text \u001b[38;5;241m=\u001b[39m value[\u001b[38;5;124m'\u001b[39m\u001b[38;5;124malert\u001b[39m\u001b[38;5;124m'\u001b[39m]\u001b[38;5;241m.\u001b[39mget(\u001b[38;5;124m'\u001b[39m\u001b[38;5;124mtext\u001b[39m\u001b[38;5;124m'\u001b[39m)\n\u001b[0;32m    242\u001b[0m     \u001b[38;5;28;01mraise\u001b[39;00m exception_class(message, screen, stacktrace, alert_text)  \u001b[38;5;66;03m# type: ignore[call-arg]  # mypy is not smart enough here\u001b[39;00m\n\u001b[1;32m--> 243\u001b[0m \u001b[38;5;28;01mraise\u001b[39;00m exception_class(message, screen, stacktrace)\n",
      "\u001b[1;31mNoSuchElementException\u001b[0m: Message: no such element: Unable to locate element: {\"method\":\"css selector\",\"selector\":\".nav-search-submit-button\"}\n  (Session info: MicrosoftEdge=107.0.1418.35)\nStacktrace:\nBacktrace:\n\tMicrosoft::Applications::Events::EventProperties::SetProperty [0x00007FF77CAF8592+9986]\n\tMicrosoft::Applications::Events::EventProperty::EventProperty [0x00007FF77CA95DC2+1445298]\n\tOrdinal0 [0x00007FF77C67FC8C+654476]\n\tOrdinal0 [0x00007FF77C6C36C2+931522]\n\tOrdinal0 [0x00007FF77C6C3B10+932624]\n\tOrdinal0 [0x00007FF77C6FFC17+1178647]\n\tOrdinal0 [0x00007FF77C6E3BDF+1063903]\n\tOrdinal0 [0x00007FF77C6B5FF4+876532]\n\tOrdinal0 [0x00007FF77C6FCF70+1167216]\n\tOrdinal0 [0x00007FF77C6E39B3+1063347]\n\tOrdinal0 [0x00007FF77C6B506A+872554]\n\tOrdinal0 [0x00007FF77C6B402E+868398]\n\tOrdinal0 [0x00007FF77C6B570F+874255]\n\tMicrosoft::Applications::Events::EventProperty::EventProperty [0x00007FF77C956108+135416]\n\tMicrosoft::Applications::Events::EventProperty::EventProperty [0x00007FF77C9402CF+45759]\n\tMicrosoft::Applications::Events::EventProperty::EventProperty [0x00007FF77C94374C+59196]\n\tOrdinal0 [0x00007FF77C78B1F4+1749492]\n\tMicrosoft::Applications::Events::EventProperty::EventProperty [0x00007FF77CA9B6BA+1468074]\n\tMicrosoft::Applications::Events::EventProperty::EventProperty [0x00007FF77CA9FF54+1486660]\n\tMicrosoft::Applications::Events::EventProperty::EventProperty [0x00007FF77CAA00AD+1487005]\n\tMicrosoft::Applications::Events::EventProperty::EventProperty [0x00007FF77CAA7E6B+1519195]\n\tBaseThreadInitThunk [0x00007FFA0CCE54E0+16]\n\tRtlUserThreadStart [0x00007FFA0EC6485B+43]\n"
     ]
    }
   ],
   "source": [
    "search8_btn=driver.find_element(By.CLASS_NAME,'nav-search-submit-button')\n",
    "search_btn.click()\n",
    "                                 \n",
    "                                 "
   ]
  },
  {
   "cell_type": "markdown",
   "id": "0de48675",
   "metadata": {},
   "source": [
    "# Ans.9"
   ]
  },
  {
   "cell_type": "code",
   "execution_count": 108,
   "id": "a0e4dbe2",
   "metadata": {},
   "outputs": [],
   "source": [
    "url='https://www.azquotes.com/'\n",
    "driver.get(url)"
   ]
  },
  {
   "cell_type": "code",
   "execution_count": 121,
   "id": "879a93ee",
   "metadata": {},
   "outputs": [],
   "source": [
    "url='https://www.azquotes.com/top_quotes.html'\n",
    "driver.get(url)\n",
    "    "
   ]
  },
  {
   "cell_type": "code",
   "execution_count": null,
   "id": "75e513fd",
   "metadata": {},
   "outputs": [],
   "source": [
    "# extract_ Quote"
   ]
  },
  {
   "cell_type": "code",
   "execution_count": 127,
   "id": "8825ce1d",
   "metadata": {},
   "outputs": [
    {
     "data": {
      "text/html": [
       "<div>\n",
       "<style scoped>\n",
       "    .dataframe tbody tr th:only-of-type {\n",
       "        vertical-align: middle;\n",
       "    }\n",
       "\n",
       "    .dataframe tbody tr th {\n",
       "        vertical-align: top;\n",
       "    }\n",
       "\n",
       "    .dataframe thead th {\n",
       "        text-align: right;\n",
       "    }\n",
       "</style>\n",
       "<table border=\"1\" class=\"dataframe\">\n",
       "  <thead>\n",
       "    <tr style=\"text-align: right;\">\n",
       "      <th></th>\n",
       "      <th>Quote</th>\n",
       "    </tr>\n",
       "  </thead>\n",
       "  <tbody>\n",
       "    <tr>\n",
       "      <th>0</th>\n",
       "      <td>Courage is the price that life exacts for gran...</td>\n",
       "    </tr>\n",
       "    <tr>\n",
       "      <th>1</th>\n",
       "      <td>The worst evils which mankind has ever had to ...</td>\n",
       "    </tr>\n",
       "    <tr>\n",
       "      <th>2</th>\n",
       "      <td>The moment we begin to fear the opinions of ot...</td>\n",
       "    </tr>\n",
       "    <tr>\n",
       "      <th>3</th>\n",
       "      <td>Trust yourself, you know more than you think y...</td>\n",
       "    </tr>\n",
       "    <tr>\n",
       "      <th>4</th>\n",
       "      <td>High achievement always takes place in the fra...</td>\n",
       "    </tr>\n",
       "    <tr>\n",
       "      <th>...</th>\n",
       "      <td>...</td>\n",
       "    </tr>\n",
       "    <tr>\n",
       "      <th>995</th>\n",
       "      <td>Regret for the things we did can be tempered b...</td>\n",
       "    </tr>\n",
       "    <tr>\n",
       "      <th>996</th>\n",
       "      <td>America... just a nation of two hundred millio...</td>\n",
       "    </tr>\n",
       "    <tr>\n",
       "      <th>997</th>\n",
       "      <td>For every disciplined effort there is a multip...</td>\n",
       "    </tr>\n",
       "    <tr>\n",
       "      <th>998</th>\n",
       "      <td>The spiritual journey is individual, highly pe...</td>\n",
       "    </tr>\n",
       "    <tr>\n",
       "      <th>999</th>\n",
       "      <td>No matter how plain a woman may be, if truth a...</td>\n",
       "    </tr>\n",
       "  </tbody>\n",
       "</table>\n",
       "<p>1000 rows × 1 columns</p>\n",
       "</div>"
      ],
      "text/plain": [
       "                                                 Quote\n",
       "0    Courage is the price that life exacts for gran...\n",
       "1    The worst evils which mankind has ever had to ...\n",
       "2    The moment we begin to fear the opinions of ot...\n",
       "3    Trust yourself, you know more than you think y...\n",
       "4    High achievement always takes place in the fra...\n",
       "..                                                 ...\n",
       "995  Regret for the things we did can be tempered b...\n",
       "996  America... just a nation of two hundred millio...\n",
       "997  For every disciplined effort there is a multip...\n",
       "998  The spiritual journey is individual, highly pe...\n",
       "999  No matter how plain a woman may be, if truth a...\n",
       "\n",
       "[1000 rows x 1 columns]"
      ]
     },
     "execution_count": 127,
     "metadata": {},
     "output_type": "execute_result"
    }
   ],
   "source": [
    "Quote= []\n",
    "start=0\n",
    "end=10\n",
    "for page in range(start,end):\n",
    "    Quote1=driver.find_elements(By.XPATH,'//a[@class=\"title\"]')\n",
    "    for i in Quote1:\n",
    "        Quote.append(i.text)\n",
    "        \n",
    "    next_page=driver.find_element(By.XPATH,'//li[@class=\"next inactive\"]')\n",
    "    next_page.click()\n",
    "    \n",
    "pd.DataFrame({'Quote':Quote})"
   ]
  },
  {
   "cell_type": "code",
   "execution_count": 130,
   "id": "c3079fad",
   "metadata": {},
   "outputs": [],
   "source": [
    "# Extract Author"
   ]
  },
  {
   "cell_type": "code",
   "execution_count": 129,
   "id": "7e54a496",
   "metadata": {},
   "outputs": [
    {
     "data": {
      "text/html": [
       "<div>\n",
       "<style scoped>\n",
       "    .dataframe tbody tr th:only-of-type {\n",
       "        vertical-align: middle;\n",
       "    }\n",
       "\n",
       "    .dataframe tbody tr th {\n",
       "        vertical-align: top;\n",
       "    }\n",
       "\n",
       "    .dataframe thead th {\n",
       "        text-align: right;\n",
       "    }\n",
       "</style>\n",
       "<table border=\"1\" class=\"dataframe\">\n",
       "  <thead>\n",
       "    <tr style=\"text-align: right;\">\n",
       "      <th></th>\n",
       "      <th>Author</th>\n",
       "    </tr>\n",
       "  </thead>\n",
       "  <tbody>\n",
       "    <tr>\n",
       "      <th>0</th>\n",
       "      <td>Amelia Earhart</td>\n",
       "    </tr>\n",
       "    <tr>\n",
       "      <th>1</th>\n",
       "      <td>Ludwig von Mises</td>\n",
       "    </tr>\n",
       "    <tr>\n",
       "      <th>2</th>\n",
       "      <td>Elizabeth Cady Stanton</td>\n",
       "    </tr>\n",
       "    <tr>\n",
       "      <th>3</th>\n",
       "      <td>Benjamin Spock</td>\n",
       "    </tr>\n",
       "    <tr>\n",
       "      <th>4</th>\n",
       "      <td>Charles Kettering</td>\n",
       "    </tr>\n",
       "    <tr>\n",
       "      <th>...</th>\n",
       "      <td>...</td>\n",
       "    </tr>\n",
       "    <tr>\n",
       "      <th>995</th>\n",
       "      <td>Sydney J. Harris</td>\n",
       "    </tr>\n",
       "    <tr>\n",
       "      <th>996</th>\n",
       "      <td>Hunter S. Thompson</td>\n",
       "    </tr>\n",
       "    <tr>\n",
       "      <th>997</th>\n",
       "      <td>Jim Rohn</td>\n",
       "    </tr>\n",
       "    <tr>\n",
       "      <th>998</th>\n",
       "      <td>Ram Dass</td>\n",
       "    </tr>\n",
       "    <tr>\n",
       "      <th>999</th>\n",
       "      <td>Eleanor Roosevelt</td>\n",
       "    </tr>\n",
       "  </tbody>\n",
       "</table>\n",
       "<p>1000 rows × 1 columns</p>\n",
       "</div>"
      ],
      "text/plain": [
       "                     Author\n",
       "0            Amelia Earhart\n",
       "1          Ludwig von Mises\n",
       "2    Elizabeth Cady Stanton\n",
       "3            Benjamin Spock\n",
       "4         Charles Kettering\n",
       "..                      ...\n",
       "995        Sydney J. Harris\n",
       "996      Hunter S. Thompson\n",
       "997                Jim Rohn\n",
       "998                Ram Dass\n",
       "999       Eleanor Roosevelt\n",
       "\n",
       "[1000 rows x 1 columns]"
      ]
     },
     "execution_count": 129,
     "metadata": {},
     "output_type": "execute_result"
    }
   ],
   "source": [
    "Author= []\n",
    "start=0\n",
    "end=10\n",
    "for page in range(start,end):\n",
    "    quote=driver.find_elements(By.XPATH,'//div[@class=\"author\"]')\n",
    "    for i in quote:\n",
    "        Author.append(i.text)\n",
    "    \n",
    "    next_btn=driver.find_element(By.XPATH,'//li[@class=\"next inactive\"]')\n",
    "    next_btn.click()\n",
    "    \n",
    "pd.DataFrame({'Author':Author})"
   ]
  },
  {
   "cell_type": "code",
   "execution_count": 131,
   "id": "55ad288d",
   "metadata": {},
   "outputs": [
    {
     "data": {
      "text/html": [
       "<div>\n",
       "<style scoped>\n",
       "    .dataframe tbody tr th:only-of-type {\n",
       "        vertical-align: middle;\n",
       "    }\n",
       "\n",
       "    .dataframe tbody tr th {\n",
       "        vertical-align: top;\n",
       "    }\n",
       "\n",
       "    .dataframe thead th {\n",
       "        text-align: right;\n",
       "    }\n",
       "</style>\n",
       "<table border=\"1\" class=\"dataframe\">\n",
       "  <thead>\n",
       "    <tr style=\"text-align: right;\">\n",
       "      <th></th>\n",
       "      <th>Type of Quote</th>\n",
       "    </tr>\n",
       "  </thead>\n",
       "  <tbody>\n",
       "    <tr>\n",
       "      <th>0</th>\n",
       "      <td>Inspirational, Life, Success</td>\n",
       "    </tr>\n",
       "    <tr>\n",
       "      <th>1</th>\n",
       "      <td>Peace, War, Government</td>\n",
       "    </tr>\n",
       "    <tr>\n",
       "      <th>2</th>\n",
       "      <td>Life, Strength, Courage</td>\n",
       "    </tr>\n",
       "    <tr>\n",
       "      <th>3</th>\n",
       "      <td>Positive, Family, Trust</td>\n",
       "    </tr>\n",
       "    <tr>\n",
       "      <th>4</th>\n",
       "      <td>Inspirational, Motivational, Teacher</td>\n",
       "    </tr>\n",
       "    <tr>\n",
       "      <th>...</th>\n",
       "      <td>...</td>\n",
       "    </tr>\n",
       "    <tr>\n",
       "      <th>995</th>\n",
       "      <td>Love, Inspirational, Motivational</td>\n",
       "    </tr>\n",
       "    <tr>\n",
       "      <th>996</th>\n",
       "      <td>Gun, Two, Qualms About</td>\n",
       "    </tr>\n",
       "    <tr>\n",
       "      <th>997</th>\n",
       "      <td>Inspirational, Greatness, Best Effort</td>\n",
       "    </tr>\n",
       "    <tr>\n",
       "      <th>998</th>\n",
       "      <td>Spiritual, Truth, Yoga</td>\n",
       "    </tr>\n",
       "    <tr>\n",
       "      <th>999</th>\n",
       "      <td>Beauty, Beautiful, Truth</td>\n",
       "    </tr>\n",
       "  </tbody>\n",
       "</table>\n",
       "<p>1000 rows × 1 columns</p>\n",
       "</div>"
      ],
      "text/plain": [
       "                             Type of Quote\n",
       "0             Inspirational, Life, Success\n",
       "1                   Peace, War, Government\n",
       "2                  Life, Strength, Courage\n",
       "3                  Positive, Family, Trust\n",
       "4     Inspirational, Motivational, Teacher\n",
       "..                                     ...\n",
       "995      Love, Inspirational, Motivational\n",
       "996                 Gun, Two, Qualms About\n",
       "997  Inspirational, Greatness, Best Effort\n",
       "998                 Spiritual, Truth, Yoga\n",
       "999               Beauty, Beautiful, Truth\n",
       "\n",
       "[1000 rows x 1 columns]"
      ]
     },
     "execution_count": 131,
     "metadata": {},
     "output_type": "execute_result"
    }
   ],
   "source": [
    "type_quote= []\n",
    "start=0\n",
    "end=10\n",
    "for page in range(start,end):\n",
    "    quote=driver.find_elements(By.XPATH,'//div[@class=\"tags\"]')\n",
    "    for i in quote:\n",
    "        type_quote.append(i.text)\n",
    "    \n",
    "    next_btn=driver.find_element(By.XPATH,'//li[@class=\"next inactive\"]')\n",
    "    next_btn.click()\n",
    "    \n",
    "pd.DataFrame({'Type of Quote':type_quote})\n",
    "    "
   ]
  },
  {
   "cell_type": "code",
   "execution_count": 132,
   "id": "480e9d5b",
   "metadata": {},
   "outputs": [],
   "source": [
    "driver.close()"
   ]
  },
  {
   "cell_type": "code",
   "execution_count": 133,
   "id": "e1237994",
   "metadata": {},
   "outputs": [],
   "source": [
    "driver2.close()"
   ]
  },
  {
   "cell_type": "code",
   "execution_count": 135,
   "id": "80626c03",
   "metadata": {},
   "outputs": [],
   "source": [
    "flipkart.close()"
   ]
  },
  {
   "cell_type": "code",
   "execution_count": 136,
   "id": "ab42cff3",
   "metadata": {},
   "outputs": [],
   "source": [
    "flipkart6.close()"
   ]
  },
  {
   "cell_type": "markdown",
   "id": "135c684f",
   "metadata": {},
   "source": [
    "### Ans-10"
   ]
  },
  {
   "cell_type": "code",
   "execution_count": 4,
   "id": "28a8ee93",
   "metadata": {},
   "outputs": [],
   "source": [
    "url='https://www.jagranjosh.com/'\n",
    "driver.get(url)"
   ]
  },
  {
   "cell_type": "code",
   "execution_count": 12,
   "id": "b76d7732",
   "metadata": {},
   "outputs": [],
   "source": [
    "# GK=driver.find_elements(By.CLASS_NAME,'//div[@class=\"hashtag\"]')\n",
    "# for i in GK[0:]:\n",
    "#    print(i.get_attribute('href'))"
   ]
  },
  {
   "cell_type": "markdown",
   "id": "be11b4c3",
   "metadata": {},
   "source": [
    "### Ans.11"
   ]
  },
  {
   "cell_type": "code",
   "execution_count": null,
   "id": "5e13353b",
   "metadata": {},
   "outputs": [],
   "source": [
    "driver="
   ]
  },
  {
   "cell_type": "code",
   "execution_count": 16,
   "id": "967fa88d",
   "metadata": {},
   "outputs": [],
   "source": [
    "url='https://www.motor1.com/'\n",
    "driver.get(url)"
   ]
  },
  {
   "cell_type": "code",
   "execution_count": 22,
   "id": "130094f8",
   "metadata": {},
   "outputs": [],
   "source": [
    "url='https://www.motor1.com/features/category/lists/'\n",
    "driver.get(url)"
   ]
  },
  {
   "cell_type": "code",
   "execution_count": 23,
   "id": "8c4eb0a6",
   "metadata": {},
   "outputs": [
    {
     "ename": "ElementNotInteractableException",
     "evalue": "Message: element not interactable\n  (Session info: MicrosoftEdge=107.0.1418.35)\nStacktrace:\nBacktrace:\n\tMicrosoft::Applications::Events::EventProperties::SetProperty [0x00007FF6BC2E8592+9986]\n\tMicrosoft::Applications::Events::EventProperty::EventProperty [0x00007FF6BC285DC2+1445298]\n\tOrdinal0 [0x00007FF6BBE6FAF4+654068]\n\tOrdinal0 [0x00007FF6BBEACB92+904082]\n\tOrdinal0 [0x00007FF6BBEABE94+900756]\n\tOrdinal0 [0x00007FF6BBED3B9A+1063834]\n\tOrdinal0 [0x00007FF6BBEA5FF4+876532]\n\tOrdinal0 [0x00007FF6BBEA5EAF+876207]\n\tOrdinal0 [0x00007FF6BBED3E90+1064592]\n\tOrdinal0 [0x00007FF6BBEA5FF4+876532]\n\tOrdinal0 [0x00007FF6BBEECF70+1167216]\n\tOrdinal0 [0x00007FF6BBED39B3+1063347]\n\tOrdinal0 [0x00007FF6BBEA506A+872554]\n\tOrdinal0 [0x00007FF6BBEA402E+868398]\n\tOrdinal0 [0x00007FF6BBEA570F+874255]\n\tMicrosoft::Applications::Events::EventProperty::EventProperty [0x00007FF6BC146108+135416]\n\tMicrosoft::Applications::Events::EventProperty::EventProperty [0x00007FF6BC1302CF+45759]\n\tMicrosoft::Applications::Events::EventProperty::EventProperty [0x00007FF6BC13374C+59196]\n\tOrdinal0 [0x00007FF6BBF7B1F4+1749492]\n\tMicrosoft::Applications::Events::EventProperty::EventProperty [0x00007FF6BC28B6BA+1468074]\n\tMicrosoft::Applications::Events::EventProperty::EventProperty [0x00007FF6BC28FF54+1486660]\n\tMicrosoft::Applications::Events::EventProperty::EventProperty [0x00007FF6BC2900AD+1487005]\n\tMicrosoft::Applications::Events::EventProperty::EventProperty [0x00007FF6BC297E6B+1519195]\n\tBaseThreadInitThunk [0x00007FFA0CCE54E0+16]\n\tRtlUserThreadStart [0x00007FFA0EC6485B+43]\n",
     "output_type": "error",
     "traceback": [
      "\u001b[1;31m---------------------------------------------------------------------------\u001b[0m",
      "\u001b[1;31mElementNotInteractableException\u001b[0m           Traceback (most recent call last)",
      "Input \u001b[1;32mIn [23]\u001b[0m, in \u001b[0;36m<cell line: 2>\u001b[1;34m()\u001b[0m\n\u001b[0;32m      1\u001b[0m search\u001b[38;5;241m=\u001b[39mdriver\u001b[38;5;241m.\u001b[39mfind_element(By\u001b[38;5;241m.\u001b[39mCLASS_NAME,\u001b[38;5;124m\"\u001b[39m\u001b[38;5;124mfeatures-search_input-wrapper\u001b[39m\u001b[38;5;124m\"\u001b[39m)\n\u001b[1;32m----> 2\u001b[0m \u001b[43msearch\u001b[49m\u001b[38;5;241;43m.\u001b[39;49m\u001b[43msend_keys\u001b[49m\u001b[43m(\u001b[49m\u001b[38;5;124;43m'\u001b[39;49m\u001b[38;5;124;43mexpensive_cars\u001b[39;49m\u001b[38;5;124;43m'\u001b[39;49m\u001b[43m)\u001b[49m\n",
      "File \u001b[1;32m~\\anaconda3\\lib\\site-packages\\selenium\\webdriver\\remote\\webelement.py:223\u001b[0m, in \u001b[0;36mWebElement.send_keys\u001b[1;34m(self, *value)\u001b[0m\n\u001b[0;32m    220\u001b[0m             remote_files\u001b[38;5;241m.\u001b[39mappend(\u001b[38;5;28mself\u001b[39m\u001b[38;5;241m.\u001b[39m_upload(file))\n\u001b[0;32m    221\u001b[0m         value \u001b[38;5;241m=\u001b[39m \u001b[38;5;124m'\u001b[39m\u001b[38;5;130;01m\\n\u001b[39;00m\u001b[38;5;124m'\u001b[39m\u001b[38;5;241m.\u001b[39mjoin(remote_files)\n\u001b[1;32m--> 223\u001b[0m \u001b[38;5;28;43mself\u001b[39;49m\u001b[38;5;241;43m.\u001b[39;49m\u001b[43m_execute\u001b[49m\u001b[43m(\u001b[49m\u001b[43mCommand\u001b[49m\u001b[38;5;241;43m.\u001b[39;49m\u001b[43mSEND_KEYS_TO_ELEMENT\u001b[49m\u001b[43m,\u001b[49m\n\u001b[0;32m    224\u001b[0m \u001b[43m              \u001b[49m\u001b[43m{\u001b[49m\u001b[38;5;124;43m'\u001b[39;49m\u001b[38;5;124;43mtext\u001b[39;49m\u001b[38;5;124;43m'\u001b[39;49m\u001b[43m:\u001b[49m\u001b[43m \u001b[49m\u001b[38;5;124;43m\"\u001b[39;49m\u001b[38;5;124;43m\"\u001b[39;49m\u001b[38;5;241;43m.\u001b[39;49m\u001b[43mjoin\u001b[49m\u001b[43m(\u001b[49m\u001b[43mkeys_to_typing\u001b[49m\u001b[43m(\u001b[49m\u001b[43mvalue\u001b[49m\u001b[43m)\u001b[49m\u001b[43m)\u001b[49m\u001b[43m,\u001b[49m\n\u001b[0;32m    225\u001b[0m \u001b[43m               \u001b[49m\u001b[38;5;124;43m'\u001b[39;49m\u001b[38;5;124;43mvalue\u001b[39;49m\u001b[38;5;124;43m'\u001b[39;49m\u001b[43m:\u001b[49m\u001b[43m \u001b[49m\u001b[43mkeys_to_typing\u001b[49m\u001b[43m(\u001b[49m\u001b[43mvalue\u001b[49m\u001b[43m)\u001b[49m\u001b[43m}\u001b[49m\u001b[43m)\u001b[49m\n",
      "File \u001b[1;32m~\\anaconda3\\lib\\site-packages\\selenium\\webdriver\\remote\\webelement.py:396\u001b[0m, in \u001b[0;36mWebElement._execute\u001b[1;34m(self, command, params)\u001b[0m\n\u001b[0;32m    394\u001b[0m     params \u001b[38;5;241m=\u001b[39m {}\n\u001b[0;32m    395\u001b[0m params[\u001b[38;5;124m'\u001b[39m\u001b[38;5;124mid\u001b[39m\u001b[38;5;124m'\u001b[39m] \u001b[38;5;241m=\u001b[39m \u001b[38;5;28mself\u001b[39m\u001b[38;5;241m.\u001b[39m_id\n\u001b[1;32m--> 396\u001b[0m \u001b[38;5;28;01mreturn\u001b[39;00m \u001b[38;5;28;43mself\u001b[39;49m\u001b[38;5;241;43m.\u001b[39;49m\u001b[43m_parent\u001b[49m\u001b[38;5;241;43m.\u001b[39;49m\u001b[43mexecute\u001b[49m\u001b[43m(\u001b[49m\u001b[43mcommand\u001b[49m\u001b[43m,\u001b[49m\u001b[43m \u001b[49m\u001b[43mparams\u001b[49m\u001b[43m)\u001b[49m\n",
      "File \u001b[1;32m~\\anaconda3\\lib\\site-packages\\selenium\\webdriver\\remote\\webdriver.py:429\u001b[0m, in \u001b[0;36mWebDriver.execute\u001b[1;34m(self, driver_command, params)\u001b[0m\n\u001b[0;32m    427\u001b[0m response \u001b[38;5;241m=\u001b[39m \u001b[38;5;28mself\u001b[39m\u001b[38;5;241m.\u001b[39mcommand_executor\u001b[38;5;241m.\u001b[39mexecute(driver_command, params)\n\u001b[0;32m    428\u001b[0m \u001b[38;5;28;01mif\u001b[39;00m response:\n\u001b[1;32m--> 429\u001b[0m     \u001b[38;5;28;43mself\u001b[39;49m\u001b[38;5;241;43m.\u001b[39;49m\u001b[43merror_handler\u001b[49m\u001b[38;5;241;43m.\u001b[39;49m\u001b[43mcheck_response\u001b[49m\u001b[43m(\u001b[49m\u001b[43mresponse\u001b[49m\u001b[43m)\u001b[49m\n\u001b[0;32m    430\u001b[0m     response[\u001b[38;5;124m'\u001b[39m\u001b[38;5;124mvalue\u001b[39m\u001b[38;5;124m'\u001b[39m] \u001b[38;5;241m=\u001b[39m \u001b[38;5;28mself\u001b[39m\u001b[38;5;241m.\u001b[39m_unwrap_value(\n\u001b[0;32m    431\u001b[0m         response\u001b[38;5;241m.\u001b[39mget(\u001b[38;5;124m'\u001b[39m\u001b[38;5;124mvalue\u001b[39m\u001b[38;5;124m'\u001b[39m, \u001b[38;5;28;01mNone\u001b[39;00m))\n\u001b[0;32m    432\u001b[0m     \u001b[38;5;28;01mreturn\u001b[39;00m response\n",
      "File \u001b[1;32m~\\anaconda3\\lib\\site-packages\\selenium\\webdriver\\remote\\errorhandler.py:243\u001b[0m, in \u001b[0;36mErrorHandler.check_response\u001b[1;34m(self, response)\u001b[0m\n\u001b[0;32m    241\u001b[0m         alert_text \u001b[38;5;241m=\u001b[39m value[\u001b[38;5;124m'\u001b[39m\u001b[38;5;124malert\u001b[39m\u001b[38;5;124m'\u001b[39m]\u001b[38;5;241m.\u001b[39mget(\u001b[38;5;124m'\u001b[39m\u001b[38;5;124mtext\u001b[39m\u001b[38;5;124m'\u001b[39m)\n\u001b[0;32m    242\u001b[0m     \u001b[38;5;28;01mraise\u001b[39;00m exception_class(message, screen, stacktrace, alert_text)  \u001b[38;5;66;03m# type: ignore[call-arg]  # mypy is not smart enough here\u001b[39;00m\n\u001b[1;32m--> 243\u001b[0m \u001b[38;5;28;01mraise\u001b[39;00m exception_class(message, screen, stacktrace)\n",
      "\u001b[1;31mElementNotInteractableException\u001b[0m: Message: element not interactable\n  (Session info: MicrosoftEdge=107.0.1418.35)\nStacktrace:\nBacktrace:\n\tMicrosoft::Applications::Events::EventProperties::SetProperty [0x00007FF6BC2E8592+9986]\n\tMicrosoft::Applications::Events::EventProperty::EventProperty [0x00007FF6BC285DC2+1445298]\n\tOrdinal0 [0x00007FF6BBE6FAF4+654068]\n\tOrdinal0 [0x00007FF6BBEACB92+904082]\n\tOrdinal0 [0x00007FF6BBEABE94+900756]\n\tOrdinal0 [0x00007FF6BBED3B9A+1063834]\n\tOrdinal0 [0x00007FF6BBEA5FF4+876532]\n\tOrdinal0 [0x00007FF6BBEA5EAF+876207]\n\tOrdinal0 [0x00007FF6BBED3E90+1064592]\n\tOrdinal0 [0x00007FF6BBEA5FF4+876532]\n\tOrdinal0 [0x00007FF6BBEECF70+1167216]\n\tOrdinal0 [0x00007FF6BBED39B3+1063347]\n\tOrdinal0 [0x00007FF6BBEA506A+872554]\n\tOrdinal0 [0x00007FF6BBEA402E+868398]\n\tOrdinal0 [0x00007FF6BBEA570F+874255]\n\tMicrosoft::Applications::Events::EventProperty::EventProperty [0x00007FF6BC146108+135416]\n\tMicrosoft::Applications::Events::EventProperty::EventProperty [0x00007FF6BC1302CF+45759]\n\tMicrosoft::Applications::Events::EventProperty::EventProperty [0x00007FF6BC13374C+59196]\n\tOrdinal0 [0x00007FF6BBF7B1F4+1749492]\n\tMicrosoft::Applications::Events::EventProperty::EventProperty [0x00007FF6BC28B6BA+1468074]\n\tMicrosoft::Applications::Events::EventProperty::EventProperty [0x00007FF6BC28FF54+1486660]\n\tMicrosoft::Applications::Events::EventProperty::EventProperty [0x00007FF6BC2900AD+1487005]\n\tMicrosoft::Applications::Events::EventProperty::EventProperty [0x00007FF6BC297E6B+1519195]\n\tBaseThreadInitThunk [0x00007FFA0CCE54E0+16]\n\tRtlUserThreadStart [0x00007FFA0EC6485B+43]\n"
     ]
    }
   ],
   "source": [
    "search=driver.find_element(By.CLASS_NAME,\"features-search_input-wrapper\")\n",
    "search.send_keys('expensive_cars')"
   ]
  },
  {
   "cell_type": "code",
   "execution_count": null,
   "id": "81ab0ad0",
   "metadata": {},
   "outputs": [],
   "source": []
  },
  {
   "cell_type": "code",
   "execution_count": null,
   "id": "676daf8f",
   "metadata": {},
   "outputs": [],
   "source": []
  },
  {
   "cell_type": "code",
   "execution_count": null,
   "id": "31a52b52",
   "metadata": {},
   "outputs": [],
   "source": []
  },
  {
   "cell_type": "code",
   "execution_count": null,
   "id": "c6d7647a",
   "metadata": {},
   "outputs": [],
   "source": []
  },
  {
   "cell_type": "code",
   "execution_count": null,
   "id": "fae16ea2",
   "metadata": {},
   "outputs": [],
   "source": []
  },
  {
   "cell_type": "code",
   "execution_count": null,
   "id": "c7b47750",
   "metadata": {},
   "outputs": [],
   "source": []
  },
  {
   "cell_type": "code",
   "execution_count": null,
   "id": "2cea9584",
   "metadata": {},
   "outputs": [],
   "source": []
  },
  {
   "cell_type": "code",
   "execution_count": null,
   "id": "b2ef2a55",
   "metadata": {},
   "outputs": [],
   "source": []
  },
  {
   "cell_type": "code",
   "execution_count": null,
   "id": "fc48ce1b",
   "metadata": {},
   "outputs": [],
   "source": []
  },
  {
   "cell_type": "code",
   "execution_count": null,
   "id": "eea17f24",
   "metadata": {},
   "outputs": [],
   "source": []
  },
  {
   "cell_type": "code",
   "execution_count": null,
   "id": "b83d3879",
   "metadata": {},
   "outputs": [],
   "source": []
  },
  {
   "cell_type": "code",
   "execution_count": null,
   "id": "933a644f",
   "metadata": {},
   "outputs": [],
   "source": []
  },
  {
   "cell_type": "code",
   "execution_count": null,
   "id": "a0d0bec2",
   "metadata": {},
   "outputs": [],
   "source": [
    "# Ans. 10"
   ]
  }
 ],
 "metadata": {
  "kernelspec": {
   "display_name": "Python 3 (ipykernel)",
   "language": "python",
   "name": "python3"
  },
  "language_info": {
   "codemirror_mode": {
    "name": "ipython",
    "version": 3
   },
   "file_extension": ".py",
   "mimetype": "text/x-python",
   "name": "python",
   "nbconvert_exporter": "python",
   "pygments_lexer": "ipython3",
   "version": "3.9.12"
  }
 },
 "nbformat": 4,
 "nbformat_minor": 5
}
